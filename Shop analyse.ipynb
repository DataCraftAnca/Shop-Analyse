{
 "cells": [
  {
   "cell_type": "code",
   "execution_count": 2,
   "metadata": {
    "collapsed": true
   },
   "outputs": [],
   "source": [
    "import openpyxl\n",
    "import pandas as pd\n",
    "import numpy as np\n",
    "import matplotlib.pyplot as plt\n",
    "import seaborn as sns"
   ]
  },
  {
   "cell_type": "code",
   "execution_count": 3,
   "outputs": [],
   "source": [
    "\n",
    "xls = pd.ExcelFile(\"C:\\\\pythonProject1\\\\Gruppenprojekt\\\\Aufgabe 5 - Shop Analyse.xlsx\")\n",
    "df1 = pd.read_excel(xls, 'P1')\n",
    "df2 = pd.read_excel(xls, 'P2')\n",
    "df3 =pd.read_excel(xls, 'P3')"
   ],
   "metadata": {
    "collapsed": false
   }
  },
  {
   "cell_type": "code",
   "execution_count": 4,
   "outputs": [
    {
     "data": {
      "text/plain": "   Datum         Umsatz\n0    Jan  148945.166650\n1    Feb  128859.949494\n2    Mrz  141602.709028\n3    Apr  133780.491099\n4    Mai  135993.779232\n5    Jun  135206.767009\n6    Jul  143531.783519\n7    Aug  139714.627028\n8    Sep  130178.025891\n9    Okt  128966.717912\n10   Nov  122411.822565\n11   Dez  126539.078674",
      "text/html": "<div>\n<style scoped>\n    .dataframe tbody tr th:only-of-type {\n        vertical-align: middle;\n    }\n\n    .dataframe tbody tr th {\n        vertical-align: top;\n    }\n\n    .dataframe thead th {\n        text-align: right;\n    }\n</style>\n<table border=\"1\" class=\"dataframe\">\n  <thead>\n    <tr style=\"text-align: right;\">\n      <th></th>\n      <th>Datum</th>\n      <th>Umsatz</th>\n    </tr>\n  </thead>\n  <tbody>\n    <tr>\n      <th>0</th>\n      <td>Jan</td>\n      <td>148945.166650</td>\n    </tr>\n    <tr>\n      <th>1</th>\n      <td>Feb</td>\n      <td>128859.949494</td>\n    </tr>\n    <tr>\n      <th>2</th>\n      <td>Mrz</td>\n      <td>141602.709028</td>\n    </tr>\n    <tr>\n      <th>3</th>\n      <td>Apr</td>\n      <td>133780.491099</td>\n    </tr>\n    <tr>\n      <th>4</th>\n      <td>Mai</td>\n      <td>135993.779232</td>\n    </tr>\n    <tr>\n      <th>5</th>\n      <td>Jun</td>\n      <td>135206.767009</td>\n    </tr>\n    <tr>\n      <th>6</th>\n      <td>Jul</td>\n      <td>143531.783519</td>\n    </tr>\n    <tr>\n      <th>7</th>\n      <td>Aug</td>\n      <td>139714.627028</td>\n    </tr>\n    <tr>\n      <th>8</th>\n      <td>Sep</td>\n      <td>130178.025891</td>\n    </tr>\n    <tr>\n      <th>9</th>\n      <td>Okt</td>\n      <td>128966.717912</td>\n    </tr>\n    <tr>\n      <th>10</th>\n      <td>Nov</td>\n      <td>122411.822565</td>\n    </tr>\n    <tr>\n      <th>11</th>\n      <td>Dez</td>\n      <td>126539.078674</td>\n    </tr>\n  </tbody>\n</table>\n</div>"
     },
     "execution_count": 4,
     "metadata": {},
     "output_type": "execute_result"
    }
   ],
   "source": [
    "df3"
   ],
   "metadata": {
    "collapsed": false
   }
  },
  {
   "cell_type": "code",
   "execution_count": 5,
   "outputs": [
    {
     "data": {
      "text/plain": "   Datum         Umsatz\n0    Jan  148945.166650\n1    Feb  128859.949494\n2    Mrz  141602.709028\n3    Apr  133780.491099\n4    Mai  135993.779232\n5    Jun  135206.767009\n6    Jul  143531.783519\n7    Aug  139714.627028\n8    Sep  130178.025891\n9    Okt  128966.717912\n10   Nov  122411.822565\n11   Dez  126539.078674\n12   Jan   14774.456985\n13   Feb   15176.474454\n14   Mrz   18280.334382\n15   Apr   19095.318361\n16   Mai   20206.106573\n17   Jun   20056.650473\n18   Jul   22288.143627\n19   Aug   21707.813329\n20   Sep   21084.843997\n21   Okt   21564.908777\n22   Nov   20566.410979\n23   Dez   22364.237781\n24   Jan   15562.548244\n25   Feb   14055.574404\n26   Mrz   15633.906605\n27   Apr   15792.846962\n28   Mai   16947.490126\n29   Jun   17082.748897\n30   Jul   17965.029742\n31   Aug   17720.174104\n32   Sep   16870.277769\n33   Okt   17579.239012\n34   Nov   17567.793719\n35   Dez   18653.342190",
      "text/html": "<div>\n<style scoped>\n    .dataframe tbody tr th:only-of-type {\n        vertical-align: middle;\n    }\n\n    .dataframe tbody tr th {\n        vertical-align: top;\n    }\n\n    .dataframe thead th {\n        text-align: right;\n    }\n</style>\n<table border=\"1\" class=\"dataframe\">\n  <thead>\n    <tr style=\"text-align: right;\">\n      <th></th>\n      <th>Datum</th>\n      <th>Umsatz</th>\n    </tr>\n  </thead>\n  <tbody>\n    <tr>\n      <th>0</th>\n      <td>Jan</td>\n      <td>148945.166650</td>\n    </tr>\n    <tr>\n      <th>1</th>\n      <td>Feb</td>\n      <td>128859.949494</td>\n    </tr>\n    <tr>\n      <th>2</th>\n      <td>Mrz</td>\n      <td>141602.709028</td>\n    </tr>\n    <tr>\n      <th>3</th>\n      <td>Apr</td>\n      <td>133780.491099</td>\n    </tr>\n    <tr>\n      <th>4</th>\n      <td>Mai</td>\n      <td>135993.779232</td>\n    </tr>\n    <tr>\n      <th>5</th>\n      <td>Jun</td>\n      <td>135206.767009</td>\n    </tr>\n    <tr>\n      <th>6</th>\n      <td>Jul</td>\n      <td>143531.783519</td>\n    </tr>\n    <tr>\n      <th>7</th>\n      <td>Aug</td>\n      <td>139714.627028</td>\n    </tr>\n    <tr>\n      <th>8</th>\n      <td>Sep</td>\n      <td>130178.025891</td>\n    </tr>\n    <tr>\n      <th>9</th>\n      <td>Okt</td>\n      <td>128966.717912</td>\n    </tr>\n    <tr>\n      <th>10</th>\n      <td>Nov</td>\n      <td>122411.822565</td>\n    </tr>\n    <tr>\n      <th>11</th>\n      <td>Dez</td>\n      <td>126539.078674</td>\n    </tr>\n    <tr>\n      <th>12</th>\n      <td>Jan</td>\n      <td>14774.456985</td>\n    </tr>\n    <tr>\n      <th>13</th>\n      <td>Feb</td>\n      <td>15176.474454</td>\n    </tr>\n    <tr>\n      <th>14</th>\n      <td>Mrz</td>\n      <td>18280.334382</td>\n    </tr>\n    <tr>\n      <th>15</th>\n      <td>Apr</td>\n      <td>19095.318361</td>\n    </tr>\n    <tr>\n      <th>16</th>\n      <td>Mai</td>\n      <td>20206.106573</td>\n    </tr>\n    <tr>\n      <th>17</th>\n      <td>Jun</td>\n      <td>20056.650473</td>\n    </tr>\n    <tr>\n      <th>18</th>\n      <td>Jul</td>\n      <td>22288.143627</td>\n    </tr>\n    <tr>\n      <th>19</th>\n      <td>Aug</td>\n      <td>21707.813329</td>\n    </tr>\n    <tr>\n      <th>20</th>\n      <td>Sep</td>\n      <td>21084.843997</td>\n    </tr>\n    <tr>\n      <th>21</th>\n      <td>Okt</td>\n      <td>21564.908777</td>\n    </tr>\n    <tr>\n      <th>22</th>\n      <td>Nov</td>\n      <td>20566.410979</td>\n    </tr>\n    <tr>\n      <th>23</th>\n      <td>Dez</td>\n      <td>22364.237781</td>\n    </tr>\n    <tr>\n      <th>24</th>\n      <td>Jan</td>\n      <td>15562.548244</td>\n    </tr>\n    <tr>\n      <th>25</th>\n      <td>Feb</td>\n      <td>14055.574404</td>\n    </tr>\n    <tr>\n      <th>26</th>\n      <td>Mrz</td>\n      <td>15633.906605</td>\n    </tr>\n    <tr>\n      <th>27</th>\n      <td>Apr</td>\n      <td>15792.846962</td>\n    </tr>\n    <tr>\n      <th>28</th>\n      <td>Mai</td>\n      <td>16947.490126</td>\n    </tr>\n    <tr>\n      <th>29</th>\n      <td>Jun</td>\n      <td>17082.748897</td>\n    </tr>\n    <tr>\n      <th>30</th>\n      <td>Jul</td>\n      <td>17965.029742</td>\n    </tr>\n    <tr>\n      <th>31</th>\n      <td>Aug</td>\n      <td>17720.174104</td>\n    </tr>\n    <tr>\n      <th>32</th>\n      <td>Sep</td>\n      <td>16870.277769</td>\n    </tr>\n    <tr>\n      <th>33</th>\n      <td>Okt</td>\n      <td>17579.239012</td>\n    </tr>\n    <tr>\n      <th>34</th>\n      <td>Nov</td>\n      <td>17567.793719</td>\n    </tr>\n    <tr>\n      <th>35</th>\n      <td>Dez</td>\n      <td>18653.342190</td>\n    </tr>\n  </tbody>\n</table>\n</div>"
     },
     "execution_count": 5,
     "metadata": {},
     "output_type": "execute_result"
    }
   ],
   "source": [
    "xl_de = pd.ExcelFile(\"C:\\\\pythonProject1\\\\Gruppenprojekt\\\\Aufgabe 5 - Shop Analyse.xlsx\")\n",
    "combined = pd.concat([xl_de.parse(sheet) for sheet in xl_de.sheet_names], ignore_index=True)\n",
    "combined"
   ],
   "metadata": {
    "collapsed": false
   }
  },
  {
   "cell_type": "code",
   "execution_count": 6,
   "outputs": [
    {
     "data": {
      "text/plain": "           Datum Produkt         Umsatz\n0     01.01.2021       A      17.132115\n1     02.01.2021       A      57.353725\n2     03.01.2021       A     114.746857\n3     04.01.2021       A     113.251181\n4     05.01.2021       A       4.186462\n...          ...     ...            ...\n1090  27.12.2021   A+B+C  197909.241600\n1091  28.12.2021   A+B+C  198014.840500\n1092  29.12.2021   A+B+C  198355.276000\n1093  30.12.2021   A+B+C  199081.446100\n1094  31.12.2021   A+B+C  199213.853100\n\n[1095 rows x 3 columns]",
      "text/html": "<div>\n<style scoped>\n    .dataframe tbody tr th:only-of-type {\n        vertical-align: middle;\n    }\n\n    .dataframe tbody tr th {\n        vertical-align: top;\n    }\n\n    .dataframe thead th {\n        text-align: right;\n    }\n</style>\n<table border=\"1\" class=\"dataframe\">\n  <thead>\n    <tr style=\"text-align: right;\">\n      <th></th>\n      <th>Datum</th>\n      <th>Produkt</th>\n      <th>Umsatz</th>\n    </tr>\n  </thead>\n  <tbody>\n    <tr>\n      <th>0</th>\n      <td>01.01.2021</td>\n      <td>A</td>\n      <td>17.132115</td>\n    </tr>\n    <tr>\n      <th>1</th>\n      <td>02.01.2021</td>\n      <td>A</td>\n      <td>57.353725</td>\n    </tr>\n    <tr>\n      <th>2</th>\n      <td>03.01.2021</td>\n      <td>A</td>\n      <td>114.746857</td>\n    </tr>\n    <tr>\n      <th>3</th>\n      <td>04.01.2021</td>\n      <td>A</td>\n      <td>113.251181</td>\n    </tr>\n    <tr>\n      <th>4</th>\n      <td>05.01.2021</td>\n      <td>A</td>\n      <td>4.186462</td>\n    </tr>\n    <tr>\n      <th>...</th>\n      <td>...</td>\n      <td>...</td>\n      <td>...</td>\n    </tr>\n    <tr>\n      <th>1090</th>\n      <td>27.12.2021</td>\n      <td>A+B+C</td>\n      <td>197909.241600</td>\n    </tr>\n    <tr>\n      <th>1091</th>\n      <td>28.12.2021</td>\n      <td>A+B+C</td>\n      <td>198014.840500</td>\n    </tr>\n    <tr>\n      <th>1092</th>\n      <td>29.12.2021</td>\n      <td>A+B+C</td>\n      <td>198355.276000</td>\n    </tr>\n    <tr>\n      <th>1093</th>\n      <td>30.12.2021</td>\n      <td>A+B+C</td>\n      <td>199081.446100</td>\n    </tr>\n    <tr>\n      <th>1094</th>\n      <td>31.12.2021</td>\n      <td>A+B+C</td>\n      <td>199213.853100</td>\n    </tr>\n  </tbody>\n</table>\n<p>1095 rows × 3 columns</p>\n</div>"
     },
     "execution_count": 6,
     "metadata": {},
     "output_type": "execute_result"
    }
   ],
   "source": [
    "csv = pd.read_csv(\"C:\\\\pythonProject1\\\\Gruppenprojekt\\\\Aufgabe 5 - Shopauswertung.csv\", sep=\";\")\n",
    "csv"
   ],
   "metadata": {
    "collapsed": false
   }
  },
  {
   "cell_type": "code",
   "execution_count": 7,
   "outputs": [
    {
     "data": {
      "text/plain": "[]"
     },
     "execution_count": 7,
     "metadata": {},
     "output_type": "execute_result"
    }
   ],
   "source": [
    "def best_prices(Umsatz):\n",
    "    lowest_prices=[]\n",
    "    price_list=[]\n",
    "    for i in Umsatz:\n",
    "            if i==[1]:\n",
    "                store_min=min(price_list)\n",
    "                print(store_min)\n",
    "                print(price_list)\n",
    "    return lowest_prices\n",
    "best_prices(\"Umsatz\")\n",
    "\n"
   ],
   "metadata": {
    "collapsed": false
   }
  },
  {
   "cell_type": "code",
   "execution_count": 8,
   "outputs": [
    {
     "ename": "ValueError",
     "evalue": "Can only compare identically-labeled Series objects",
     "output_type": "error",
     "traceback": [
      "\u001B[1;31m---------------------------------------------------------------------------\u001B[0m",
      "\u001B[1;31mValueError\u001B[0m                                Traceback (most recent call last)",
      "Cell \u001B[1;32mIn[8], line 1\u001B[0m\n\u001B[1;32m----> 1\u001B[0m \u001B[43mdf1\u001B[49m\u001B[43m[\u001B[49m\u001B[38;5;124;43m\"\u001B[39;49m\u001B[38;5;124;43mUmsatz\u001B[39;49m\u001B[38;5;124;43m\"\u001B[39;49m\u001B[43m]\u001B[49m\u001B[38;5;241;43m.\u001B[39;49m\u001B[43mcompare\u001B[49m\u001B[43m(\u001B[49m\u001B[43mcsv\u001B[49m\u001B[43m[\u001B[49m\u001B[38;5;124;43m'\u001B[39;49m\u001B[38;5;124;43mUmsatz\u001B[39;49m\u001B[38;5;124;43m'\u001B[39;49m\u001B[43m]\u001B[49m\u001B[43m,\u001B[49m\u001B[43m \u001B[49m\u001B[43mresult_names\u001B[49m\u001B[38;5;241;43m=\u001B[39;49m\u001B[43m(\u001B[49m\u001B[38;5;124;43m\"\u001B[39;49m\u001B[38;5;124;43mp1\u001B[39;49m\u001B[38;5;124;43m\"\u001B[39;49m\u001B[43m,\u001B[49m\u001B[43m \u001B[49m\u001B[38;5;124;43m\"\u001B[39;49m\u001B[38;5;124;43mp2\u001B[39;49m\u001B[38;5;124;43m\"\u001B[39;49m\u001B[43m)\u001B[49m\u001B[43m)\u001B[49m\n",
      "File \u001B[1;32mC:\\develop\\pandas\\lib\\site-packages\\pandas\\core\\series.py:3303\u001B[0m, in \u001B[0;36mSeries.compare\u001B[1;34m(self, other, align_axis, keep_shape, keep_equal, result_names)\u001B[0m\n\u001B[0;32m   3231\u001B[0m \u001B[38;5;129m@doc\u001B[39m(\n\u001B[0;32m   3232\u001B[0m     _shared_docs[\u001B[38;5;124m\"\u001B[39m\u001B[38;5;124mcompare\u001B[39m\u001B[38;5;124m\"\u001B[39m],\n\u001B[0;32m   3233\u001B[0m \u001B[38;5;250m    \u001B[39m\u001B[38;5;124;03m\"\"\"\u001B[39;00m\n\u001B[1;32m   (...)\u001B[0m\n\u001B[0;32m   3301\u001B[0m     result_names: Suffixes \u001B[38;5;241m=\u001B[39m (\u001B[38;5;124m\"\u001B[39m\u001B[38;5;124mself\u001B[39m\u001B[38;5;124m\"\u001B[39m, \u001B[38;5;124m\"\u001B[39m\u001B[38;5;124mother\u001B[39m\u001B[38;5;124m\"\u001B[39m),\n\u001B[0;32m   3302\u001B[0m ) \u001B[38;5;241m-\u001B[39m\u001B[38;5;241m>\u001B[39m DataFrame \u001B[38;5;241m|\u001B[39m Series:\n\u001B[1;32m-> 3303\u001B[0m     \u001B[38;5;28;01mreturn\u001B[39;00m \u001B[38;5;28;43msuper\u001B[39;49m\u001B[43m(\u001B[49m\u001B[43m)\u001B[49m\u001B[38;5;241;43m.\u001B[39;49m\u001B[43mcompare\u001B[49m\u001B[43m(\u001B[49m\n\u001B[0;32m   3304\u001B[0m \u001B[43m        \u001B[49m\u001B[43mother\u001B[49m\u001B[38;5;241;43m=\u001B[39;49m\u001B[43mother\u001B[49m\u001B[43m,\u001B[49m\n\u001B[0;32m   3305\u001B[0m \u001B[43m        \u001B[49m\u001B[43malign_axis\u001B[49m\u001B[38;5;241;43m=\u001B[39;49m\u001B[43malign_axis\u001B[49m\u001B[43m,\u001B[49m\n\u001B[0;32m   3306\u001B[0m \u001B[43m        \u001B[49m\u001B[43mkeep_shape\u001B[49m\u001B[38;5;241;43m=\u001B[39;49m\u001B[43mkeep_shape\u001B[49m\u001B[43m,\u001B[49m\n\u001B[0;32m   3307\u001B[0m \u001B[43m        \u001B[49m\u001B[43mkeep_equal\u001B[49m\u001B[38;5;241;43m=\u001B[39;49m\u001B[43mkeep_equal\u001B[49m\u001B[43m,\u001B[49m\n\u001B[0;32m   3308\u001B[0m \u001B[43m        \u001B[49m\u001B[43mresult_names\u001B[49m\u001B[38;5;241;43m=\u001B[39;49m\u001B[43mresult_names\u001B[49m\u001B[43m,\u001B[49m\n\u001B[0;32m   3309\u001B[0m \u001B[43m    \u001B[49m\u001B[43m)\u001B[49m\n",
      "File \u001B[1;32mC:\\develop\\pandas\\lib\\site-packages\\pandas\\core\\generic.py:9216\u001B[0m, in \u001B[0;36mNDFrame.compare\u001B[1;34m(self, other, align_axis, keep_shape, keep_equal, result_names)\u001B[0m\n\u001B[0;32m   9211\u001B[0m     cls_self, cls_other \u001B[38;5;241m=\u001B[39m \u001B[38;5;28mtype\u001B[39m(\u001B[38;5;28mself\u001B[39m)\u001B[38;5;241m.\u001B[39m\u001B[38;5;18m__name__\u001B[39m, \u001B[38;5;28mtype\u001B[39m(other)\u001B[38;5;241m.\u001B[39m\u001B[38;5;18m__name__\u001B[39m\n\u001B[0;32m   9212\u001B[0m     \u001B[38;5;28;01mraise\u001B[39;00m \u001B[38;5;167;01mTypeError\u001B[39;00m(\n\u001B[0;32m   9213\u001B[0m         \u001B[38;5;124mf\u001B[39m\u001B[38;5;124m\"\u001B[39m\u001B[38;5;124mcan only compare \u001B[39m\u001B[38;5;124m'\u001B[39m\u001B[38;5;132;01m{\u001B[39;00mcls_self\u001B[38;5;132;01m}\u001B[39;00m\u001B[38;5;124m'\u001B[39m\u001B[38;5;124m (not \u001B[39m\u001B[38;5;124m'\u001B[39m\u001B[38;5;132;01m{\u001B[39;00mcls_other\u001B[38;5;132;01m}\u001B[39;00m\u001B[38;5;124m'\u001B[39m\u001B[38;5;124m) with \u001B[39m\u001B[38;5;124m'\u001B[39m\u001B[38;5;132;01m{\u001B[39;00mcls_self\u001B[38;5;132;01m}\u001B[39;00m\u001B[38;5;124m'\u001B[39m\u001B[38;5;124m\"\u001B[39m\n\u001B[0;32m   9214\u001B[0m     )\n\u001B[1;32m-> 9216\u001B[0m mask \u001B[38;5;241m=\u001B[39m \u001B[38;5;241m~\u001B[39m((\u001B[38;5;28;43mself\u001B[39;49m\u001B[43m \u001B[49m\u001B[38;5;241;43m==\u001B[39;49m\u001B[43m \u001B[49m\u001B[43mother\u001B[49m) \u001B[38;5;241m|\u001B[39m (\u001B[38;5;28mself\u001B[39m\u001B[38;5;241m.\u001B[39misna() \u001B[38;5;241m&\u001B[39m other\u001B[38;5;241m.\u001B[39misna()))\n\u001B[0;32m   9218\u001B[0m \u001B[38;5;28;01mif\u001B[39;00m \u001B[38;5;129;01mnot\u001B[39;00m keep_equal:\n\u001B[0;32m   9219\u001B[0m     \u001B[38;5;28mself\u001B[39m \u001B[38;5;241m=\u001B[39m \u001B[38;5;28mself\u001B[39m\u001B[38;5;241m.\u001B[39mwhere(mask)\n",
      "File \u001B[1;32mC:\\develop\\pandas\\lib\\site-packages\\pandas\\core\\ops\\common.py:72\u001B[0m, in \u001B[0;36m_unpack_zerodim_and_defer.<locals>.new_method\u001B[1;34m(self, other)\u001B[0m\n\u001B[0;32m     68\u001B[0m             \u001B[38;5;28;01mreturn\u001B[39;00m \u001B[38;5;28mNotImplemented\u001B[39m\n\u001B[0;32m     70\u001B[0m other \u001B[38;5;241m=\u001B[39m item_from_zerodim(other)\n\u001B[1;32m---> 72\u001B[0m \u001B[38;5;28;01mreturn\u001B[39;00m \u001B[43mmethod\u001B[49m\u001B[43m(\u001B[49m\u001B[38;5;28;43mself\u001B[39;49m\u001B[43m,\u001B[49m\u001B[43m \u001B[49m\u001B[43mother\u001B[49m\u001B[43m)\u001B[49m\n",
      "File \u001B[1;32mC:\\develop\\pandas\\lib\\site-packages\\pandas\\core\\arraylike.py:42\u001B[0m, in \u001B[0;36mOpsMixin.__eq__\u001B[1;34m(self, other)\u001B[0m\n\u001B[0;32m     40\u001B[0m \u001B[38;5;129m@unpack_zerodim_and_defer\u001B[39m(\u001B[38;5;124m\"\u001B[39m\u001B[38;5;124m__eq__\u001B[39m\u001B[38;5;124m\"\u001B[39m)\n\u001B[0;32m     41\u001B[0m \u001B[38;5;28;01mdef\u001B[39;00m \u001B[38;5;21m__eq__\u001B[39m(\u001B[38;5;28mself\u001B[39m, other):\n\u001B[1;32m---> 42\u001B[0m     \u001B[38;5;28;01mreturn\u001B[39;00m \u001B[38;5;28;43mself\u001B[39;49m\u001B[38;5;241;43m.\u001B[39;49m\u001B[43m_cmp_method\u001B[49m\u001B[43m(\u001B[49m\u001B[43mother\u001B[49m\u001B[43m,\u001B[49m\u001B[43m \u001B[49m\u001B[43moperator\u001B[49m\u001B[38;5;241;43m.\u001B[39;49m\u001B[43meq\u001B[49m\u001B[43m)\u001B[49m\n",
      "File \u001B[1;32mC:\\develop\\pandas\\lib\\site-packages\\pandas\\core\\series.py:6237\u001B[0m, in \u001B[0;36mSeries._cmp_method\u001B[1;34m(self, other, op)\u001B[0m\n\u001B[0;32m   6234\u001B[0m res_name \u001B[38;5;241m=\u001B[39m ops\u001B[38;5;241m.\u001B[39mget_op_result_name(\u001B[38;5;28mself\u001B[39m, other)\n\u001B[0;32m   6236\u001B[0m \u001B[38;5;28;01mif\u001B[39;00m \u001B[38;5;28misinstance\u001B[39m(other, Series) \u001B[38;5;129;01mand\u001B[39;00m \u001B[38;5;129;01mnot\u001B[39;00m \u001B[38;5;28mself\u001B[39m\u001B[38;5;241m.\u001B[39m_indexed_same(other):\n\u001B[1;32m-> 6237\u001B[0m     \u001B[38;5;28;01mraise\u001B[39;00m \u001B[38;5;167;01mValueError\u001B[39;00m(\u001B[38;5;124m\"\u001B[39m\u001B[38;5;124mCan only compare identically-labeled Series objects\u001B[39m\u001B[38;5;124m\"\u001B[39m)\n\u001B[0;32m   6239\u001B[0m lvalues \u001B[38;5;241m=\u001B[39m \u001B[38;5;28mself\u001B[39m\u001B[38;5;241m.\u001B[39m_values\n\u001B[0;32m   6240\u001B[0m rvalues \u001B[38;5;241m=\u001B[39m extract_array(other, extract_numpy\u001B[38;5;241m=\u001B[39m\u001B[38;5;28;01mTrue\u001B[39;00m, extract_range\u001B[38;5;241m=\u001B[39m\u001B[38;5;28;01mTrue\u001B[39;00m)\n",
      "\u001B[1;31mValueError\u001B[0m: Can only compare identically-labeled Series objects"
     ]
    }
   ],
   "source": [
    "df1[\"Umsatz\"].compare(csv['Umsatz'], result_names=(\"p1\", \"p2\"))"
   ],
   "metadata": {
    "collapsed": false
   }
  },
  {
   "cell_type": "code",
   "execution_count": null,
   "outputs": [],
   "source": [
    "import matplotlib.pyplot as plot\n",
    "df1.plot.bar()\n",
    "plot.title(\"Umsatz P1\")\n",
    "plot.xlabel(\"Monat\")\n",
    "plot.ylabel(\"Umsatz\")\n",
    "plot.savefig(\"Umsatz P1.png\")"
   ],
   "metadata": {
    "collapsed": false
   }
  },
  {
   "cell_type": "code",
   "execution_count": null,
   "outputs": [],
   "source": [
    "import matplotlib.pyplot as plot\n",
    "df2.plot.bar()\n",
    "plot.title(\"Umsatz P2\")\n",
    "plot.xlabel(\"Monat\")\n",
    "plot.ylabel(\"Umsatz\")\n",
    "plot.savefig(\"Umsatz P2.png\")"
   ],
   "metadata": {
    "collapsed": false
   }
  },
  {
   "cell_type": "code",
   "execution_count": null,
   "outputs": [],
   "source": [
    "import matplotlib.pyplot as plot\n",
    "df3.plot.bar()\n",
    "plot.title(\"Umsatz P3\")\n",
    "plot.xlabel(\"Monat\")\n",
    "plot.ylabel(\"Umsatz\")\n",
    "plot.savefig(\"Umsatz P3.png\")"
   ],
   "metadata": {
    "collapsed": false
   }
  },
  {
   "cell_type": "code",
   "execution_count": null,
   "outputs": [],
   "source": [
    "import matplotlib.pyplot as plt\n",
    "plt.plot(df1[\"Datum\"], df1[\"Umsatz\"], label = \"Umsatz P1\")\n",
    "plt.plot(df2[\"Datum\"], df2[\"Umsatz\"], label = \"Umsatz P2\")\n",
    "plt.plot(df3[\"Datum\"], df3[\"Umsatz\"], label = \"Umsatz P3\")\n",
    "plt.legend()\n",
    "plt.show()"
   ],
   "metadata": {
    "collapsed": false
   }
  },
  {
   "cell_type": "code",
   "execution_count": null,
   "outputs": [],
   "source": [
    "import matplotlib.pyplot as plt\n",
    "plt.plot(df1[\"Datum\"], df1[\"Umsatz\"], label = \"Umsatz P1\", color=\"green\")\n",
    "plt.plot(df2[\"Datum\"], df2[\"Umsatz\"], label = \"Umsatz P2\", color=\"black\")\n",
    "plt.plot(df3[\"Datum\"], df3[\"Umsatz\"], label = \"Umsatz P3\",color=\"violet\")\n",
    "plt.legend()\n",
    "#plt.show()\n",
    "plot.savefig(\"3Produkten DE.png\")"
   ],
   "metadata": {
    "collapsed": false
   }
  },
  {
   "cell_type": "code",
   "execution_count": 19,
   "outputs": [
    {
     "data": {
      "text/plain": "      Produkt         Umsatz Region\nDatum                              \nJan         A      17.132115     EU\nFeb         A      16.396013     EU\nMar         A     136.595746     EU\nApr         A     161.018321     EU\nMay         A      17.224495     EU\n...       ...            ...    ...\nMay         C   87246.846359     EU\nJul         C  112612.622614     EU\nAug         C  126707.618812     EU\nOct         C  155476.502792     EU\nDec         C  180568.918245     EU\n\n[1095 rows x 3 columns]",
      "text/html": "<div>\n<style scoped>\n    .dataframe tbody tr th:only-of-type {\n        vertical-align: middle;\n    }\n\n    .dataframe tbody tr th {\n        vertical-align: top;\n    }\n\n    .dataframe thead th {\n        text-align: right;\n    }\n</style>\n<table border=\"1\" class=\"dataframe\">\n  <thead>\n    <tr style=\"text-align: right;\">\n      <th></th>\n      <th>Produkt</th>\n      <th>Umsatz</th>\n      <th>Region</th>\n    </tr>\n    <tr>\n      <th>Datum</th>\n      <th></th>\n      <th></th>\n      <th></th>\n    </tr>\n  </thead>\n  <tbody>\n    <tr>\n      <th>Jan</th>\n      <td>A</td>\n      <td>17.132115</td>\n      <td>EU</td>\n    </tr>\n    <tr>\n      <th>Feb</th>\n      <td>A</td>\n      <td>16.396013</td>\n      <td>EU</td>\n    </tr>\n    <tr>\n      <th>Mar</th>\n      <td>A</td>\n      <td>136.595746</td>\n      <td>EU</td>\n    </tr>\n    <tr>\n      <th>Apr</th>\n      <td>A</td>\n      <td>161.018321</td>\n      <td>EU</td>\n    </tr>\n    <tr>\n      <th>May</th>\n      <td>A</td>\n      <td>17.224495</td>\n      <td>EU</td>\n    </tr>\n    <tr>\n      <th>...</th>\n      <td>...</td>\n      <td>...</td>\n      <td>...</td>\n    </tr>\n    <tr>\n      <th>May</th>\n      <td>C</td>\n      <td>87246.846359</td>\n      <td>EU</td>\n    </tr>\n    <tr>\n      <th>Jul</th>\n      <td>C</td>\n      <td>112612.622614</td>\n      <td>EU</td>\n    </tr>\n    <tr>\n      <th>Aug</th>\n      <td>C</td>\n      <td>126707.618812</td>\n      <td>EU</td>\n    </tr>\n    <tr>\n      <th>Oct</th>\n      <td>C</td>\n      <td>155476.502792</td>\n      <td>EU</td>\n    </tr>\n    <tr>\n      <th>Dec</th>\n      <td>C</td>\n      <td>180568.918245</td>\n      <td>EU</td>\n    </tr>\n  </tbody>\n</table>\n<p>1095 rows × 3 columns</p>\n</div>"
     },
     "execution_count": 19,
     "metadata": {},
     "output_type": "execute_result"
    }
   ],
   "source": [
    "import pandas as pd\n",
    "\n",
    "df_eu = pd.read_csv('C:\\\\pythonProject1\\\\Gruppenprojekt\\\\Aufgabe 5 - Shopauswertung.csv', delimiter=';')\n",
    "\n",
    "df_eu_pivot = df_eu.pivot(columns='Produkt', index='Datum', values='Umsatz')\n",
    "df_eu_pivot['C'] = df_eu_pivot['A+B+C'] - df_eu_pivot['A'] - df_eu_pivot['B']\n",
    "\n",
    "df_eu_pivot = df_eu_pivot.reset_index()\n",
    "df_eu_pivot = pd.melt(df_eu_pivot, id_vars=['Datum'], value_vars=['A', 'B', 'C'], var_name='Produkt', value_name='Umsatz')\n",
    "df_eu_pivot['Datum'] = pd.to_datetime(df_eu_pivot['Datum'], format='%d.%m.%Y')\n",
    "df_eu_pivot['Datum'] = df_eu_pivot['Datum'].dt.strftime('%b')\n",
    "\n",
    "df_eu_pivot = df_eu_pivot.set_index('Datum')\n",
    "df_eu_pivot['Region'] = 'EU'\n",
    "\n",
    "df_eu_pivot"
   ],
   "metadata": {
    "collapsed": false
   }
  },
  {
   "cell_type": "code",
   "execution_count": null,
   "outputs": [],
   "source": [
    "import seaborn as sns\n",
    "\n",
    "sns.lineplot( x = \"Datum\",\n",
    "             y = \"Produkt\",\n",
    "             data = df_eu_pivot);\n",
    "#plot.savefig(\"De.png\")"
   ],
   "metadata": {
    "collapsed": false
   }
  },
  {
   "cell_type": "code",
   "execution_count": 18,
   "outputs": [
    {
     "ename": "TypeError",
     "evalue": "'method' object is not subscriptable",
     "output_type": "error",
     "traceback": [
      "\u001B[1;31m---------------------------------------------------------------------------\u001B[0m",
      "\u001B[1;31mTypeError\u001B[0m                                 Traceback (most recent call last)",
      "Cell \u001B[1;32mIn[18], line 3\u001B[0m\n\u001B[0;32m      1\u001B[0m \u001B[38;5;28;01mimport\u001B[39;00m \u001B[38;5;21;01mmatplotlib\u001B[39;00m\u001B[38;5;21;01m.\u001B[39;00m\u001B[38;5;21;01mpyplot\u001B[39;00m \u001B[38;5;28;01mas\u001B[39;00m \u001B[38;5;21;01mplt\u001B[39;00m\n\u001B[0;32m      2\u001B[0m plt\u001B[38;5;241m.\u001B[39mplot(combined[\u001B[38;5;124m\"\u001B[39m\u001B[38;5;124mDatum\u001B[39m\u001B[38;5;124m\"\u001B[39m], combined[\u001B[38;5;124m\"\u001B[39m\u001B[38;5;124mUmsatz\u001B[39m\u001B[38;5;124m\"\u001B[39m], label \u001B[38;5;241m=\u001B[39m \u001B[38;5;124m\"\u001B[39m\u001B[38;5;124mDE\u001B[39m\u001B[38;5;124m\"\u001B[39m, color\u001B[38;5;241m=\u001B[39m\u001B[38;5;124m\"\u001B[39m\u001B[38;5;124mgreen\u001B[39m\u001B[38;5;124m\"\u001B[39m)\n\u001B[1;32m----> 3\u001B[0m plt\u001B[38;5;241m.\u001B[39mplot(\u001B[43mdf_eu\u001B[49m\u001B[38;5;241;43m.\u001B[39;49m\u001B[43mpivot\u001B[49m\u001B[43m[\u001B[49m\u001B[38;5;124;43m\"\u001B[39;49m\u001B[38;5;124;43mProdukt\u001B[39;49m\u001B[38;5;124;43m\"\u001B[39;49m\u001B[43m]\u001B[49m, df_eu\u001B[38;5;241m.\u001B[39mpivot[\u001B[38;5;124m\"\u001B[39m\u001B[38;5;124mUmsatz\u001B[39m\u001B[38;5;124m\"\u001B[39m], label \u001B[38;5;241m=\u001B[39m \u001B[38;5;124m\"\u001B[39m\u001B[38;5;124mEuropa\u001B[39m\u001B[38;5;124m\"\u001B[39m, color\u001B[38;5;241m=\u001B[39m\u001B[38;5;124m\"\u001B[39m\u001B[38;5;124mblue\u001B[39m\u001B[38;5;124m\"\u001B[39m)\n\u001B[0;32m      4\u001B[0m plt\u001B[38;5;241m.\u001B[39mlegend()\n\u001B[0;32m      5\u001B[0m plt\u001B[38;5;241m.\u001B[39mshow()\n",
      "\u001B[1;31mTypeError\u001B[0m: 'method' object is not subscriptable"
     ]
    },
    {
     "data": {
      "text/plain": "<Figure size 640x480 with 1 Axes>",
      "image/png": "[encoded data removed]"
     },
     "metadata": {},
     "output_type": "display_data"
    }
   ],
   "source": [
    "import matplotlib.pyplot as plt\n",
    "plt.plot(combined[\"Datum\"], combined[\"Umsatz\"], label = \"DE\", color=\"green\")\n",
    "plt.plot(df_eu.pivot[\"Produkt\"], df_eu.pivot[\"Umsatz\"], label = \"Europa\", color=\"blue\")\n",
    "plt.legend()\n",
    "plt.show()\n",
    "#plot.savefig(\"De und Europa.png\")"
   ],
   "metadata": {
    "collapsed": false
   }
  },
  {
   "cell_type": "code",
   "execution_count": null,
   "outputs": [],
   "source": [
    "import pandas as pd\n",
    "from matplotlib import pyplot as plt\n",
    "\n",
    "plt.rcParams[\"figure.figsize\"] = [7.00, 3.50]\n",
    "plt.rcParams[\"figure.autolayout\"] = True\n",
    "ax = combined.plot(x='Datum', y='Umsatz')\n",
    "df_eu_pivot.plot(ax=ax, x='Produkt', y='Umsatz')\n",
    "\n",
    "plt.show()"
   ],
   "metadata": {
    "collapsed": false
   }
  },
  {
   "cell_type": "code",
   "execution_count": 9,
   "outputs": [
    {
     "name": "stdout",
     "output_type": "stream",
     "text": [
      "Produkt              A         A+B+C             B          C_new\n",
      "Datum                                                            \n",
      "01.01.2021   17.132115   18598.65588    189.467425   18392.056339\n",
      "01.02.2021   16.396013   36098.71366   1825.467425   34256.850222\n",
      "01.03.2021  136.595746   48739.43182   3211.467425   45391.368649\n",
      "01.04.2021  161.018321   64543.14148   4570.467425   59811.655734\n",
      "01.05.2021   17.224495   81075.32567   6084.467425   74973.633750\n",
      "...                ...           ...           ...            ...\n",
      "31.05.2021    4.597326   94724.91111   7473.467425   87246.846359\n",
      "31.07.2021  139.362356  123327.45240  10575.467430  112612.622614\n",
      "31.08.2021   25.023058  139021.10930  12288.467430  126707.618812\n",
      "31.10.2021   56.993978  170955.96420  15422.467430  155476.502792\n",
      "31.12.2021  111.467425  199213.85310  18533.467430  180568.918245\n",
      "\n",
      "[365 rows x 4 columns]\n"
     ]
    }
   ],
   "source": [
    "df_eu = pd.read_csv(\"C:\\\\pythonProject1\\\\Gruppenprojekt\\\\Aufgabe 5 - Shopauswertung.csv\",sep=';')\n",
    "\n",
    "\n",
    "df_eu_pivot = df_eu.pivot(columns='Produkt',index='Datum', values='Umsatz')\n",
    "df_eu_pivot['C_new']= df_eu_pivot['A+B+C']-df_eu_pivot['A']-df_eu_pivot['B']\n",
    "\n",
    "df_eu_pivot.columns\n",
    "print(df_eu_pivot)"
   ],
   "metadata": {
    "collapsed": false
   }
  },
  {
   "cell_type": "code",
   "execution_count": 17,
   "outputs": [
    {
     "ename": "TypeError",
     "evalue": "'method' object is not subscriptable",
     "output_type": "error",
     "traceback": [
      "\u001B[1;31m---------------------------------------------------------------------------\u001B[0m",
      "\u001B[1;31mTypeError\u001B[0m                                 Traceback (most recent call last)",
      "Cell \u001B[1;32mIn[17], line 2\u001B[0m\n\u001B[0;32m      1\u001B[0m \u001B[38;5;28;01mimport\u001B[39;00m \u001B[38;5;21;01mmatplotlib\u001B[39;00m\u001B[38;5;21;01m.\u001B[39;00m\u001B[38;5;21;01mpyplot\u001B[39;00m \u001B[38;5;28;01mas\u001B[39;00m \u001B[38;5;21;01mplt\u001B[39;00m\n\u001B[1;32m----> 2\u001B[0m plt\u001B[38;5;241m.\u001B[39mplot(\u001B[43mdf_eu\u001B[49m\u001B[38;5;241;43m.\u001B[39;49m\u001B[43mpivot\u001B[49m\u001B[43m[\u001B[49m\u001B[38;5;124;43m\"\u001B[39;49m\u001B[38;5;124;43mProdukt\u001B[39;49m\u001B[38;5;124;43m\"\u001B[39;49m\u001B[43m]\u001B[49m, df_eu\u001B[38;5;241m.\u001B[39mpivot[\u001B[38;5;124m\"\u001B[39m\u001B[38;5;124mA\u001B[39m\u001B[38;5;124m\"\u001B[39m], label \u001B[38;5;241m=\u001B[39m \u001B[38;5;124m\"\u001B[39m\u001B[38;5;124mUmsatz P1\u001B[39m\u001B[38;5;124m\"\u001B[39m, color\u001B[38;5;241m=\u001B[39m\u001B[38;5;124m\"\u001B[39m\u001B[38;5;124mgreen\u001B[39m\u001B[38;5;124m\"\u001B[39m)\n\u001B[0;32m      3\u001B[0m plt\u001B[38;5;241m.\u001B[39mplot(df_eu\u001B[38;5;241m.\u001B[39mpivot[\u001B[38;5;124m\"\u001B[39m\u001B[38;5;124mProdukt\u001B[39m\u001B[38;5;124m\"\u001B[39m], df_eu\u001B[38;5;241m.\u001B[39mpivot[\u001B[38;5;124m\"\u001B[39m\u001B[38;5;124mB\u001B[39m\u001B[38;5;124m\"\u001B[39m], label \u001B[38;5;241m=\u001B[39m \u001B[38;5;124m\"\u001B[39m\u001B[38;5;124mUmsatz P2\u001B[39m\u001B[38;5;124m\"\u001B[39m, color\u001B[38;5;241m=\u001B[39m\u001B[38;5;124m\"\u001B[39m\u001B[38;5;124mblack\u001B[39m\u001B[38;5;124m\"\u001B[39m)\n\u001B[0;32m      4\u001B[0m plt\u001B[38;5;241m.\u001B[39mplot(df_eu\u001B[38;5;241m.\u001B[39mpivot[\u001B[38;5;124m\"\u001B[39m\u001B[38;5;124mProdukt\u001B[39m\u001B[38;5;124m\"\u001B[39m], df_eu\u001B[38;5;241m.\u001B[39mpivot[\u001B[38;5;124m\"\u001B[39m\u001B[38;5;124mA+B+C\u001B[39m\u001B[38;5;124m\"\u001B[39m], label \u001B[38;5;241m=\u001B[39m \u001B[38;5;124m\"\u001B[39m\u001B[38;5;124mUmsatz P3\u001B[39m\u001B[38;5;124m\"\u001B[39m,color\u001B[38;5;241m=\u001B[39m\u001B[38;5;124m\"\u001B[39m\u001B[38;5;124mviolet\u001B[39m\u001B[38;5;124m\"\u001B[39m)\n",
      "\u001B[1;31mTypeError\u001B[0m: 'method' object is not subscriptable"
     ]
    }
   ],
   "source": [
    "import matplotlib.pyplot as plt\n",
    "plt.plot(df_eu.pivot[\"Produkt\"], df_eu.pivot[\"A\"], label = \"Umsatz P1\", color=\"green\")\n",
    "plt.plot(df_eu.pivot[\"Produkt\"], df_eu.pivot[\"B\"], label = \"Umsatz P2\", color=\"black\")\n",
    "plt.plot(df_eu.pivot[\"Produkt\"], df_eu.pivot[\"A+B+C\"], label = \"Umsatz P3\",color=\"violet\")\n",
    "plt.legend()\n",
    "plt.show()\n",
    "#plot.savefig(\"3Produkten DE.png\")"
   ],
   "metadata": {
    "collapsed": false
   }
  },
  {
   "cell_type": "code",
   "execution_count": 20,
   "outputs": [
    {
     "ename": "NameError",
     "evalue": "name 'df_combined' is not defined",
     "output_type": "error",
     "traceback": [
      "\u001B[1;31m---------------------------------------------------------------------------\u001B[0m",
      "\u001B[1;31mNameError\u001B[0m                                 Traceback (most recent call last)",
      "Cell \u001B[1;32mIn[20], line 4\u001B[0m\n\u001B[0;32m      1\u001B[0m \u001B[38;5;28;01mimport\u001B[39;00m \u001B[38;5;21;01mmatplotlib\u001B[39;00m\u001B[38;5;21;01m.\u001B[39;00m\u001B[38;5;21;01mpyplot\u001B[39;00m \u001B[38;5;28;01mas\u001B[39;00m \u001B[38;5;21;01mplt\u001B[39;00m\n\u001B[0;32m      3\u001B[0m \u001B[38;5;66;03m# Filtern die Daten nur für die Region EU und die Produkte A, B und C\u001B[39;00m\n\u001B[1;32m----> 4\u001B[0m df_EU_ABC \u001B[38;5;241m=\u001B[39m \u001B[43mdf_combined\u001B[49m[(df_combined[\u001B[38;5;124m'\u001B[39m\u001B[38;5;124mRegion\u001B[39m\u001B[38;5;124m'\u001B[39m] \u001B[38;5;241m==\u001B[39m \u001B[38;5;124m'\u001B[39m\u001B[38;5;124mEU\u001B[39m\u001B[38;5;124m'\u001B[39m) \u001B[38;5;241m&\u001B[39m (df_combined[\u001B[38;5;124m'\u001B[39m\u001B[38;5;124mProdukt\u001B[39m\u001B[38;5;124m'\u001B[39m]\u001B[38;5;241m.\u001B[39misin([\u001B[38;5;124m'\u001B[39m\u001B[38;5;124mA\u001B[39m\u001B[38;5;124m'\u001B[39m, \u001B[38;5;124m'\u001B[39m\u001B[38;5;124mB\u001B[39m\u001B[38;5;124m'\u001B[39m, \u001B[38;5;124m'\u001B[39m\u001B[38;5;124mC\u001B[39m\u001B[38;5;124m'\u001B[39m]))]\n\u001B[0;32m      6\u001B[0m \u001B[38;5;66;03m# Gruppieren die Daten nach Datum und Produkt\u001B[39;00m\n\u001B[0;32m      7\u001B[0m grouped_data \u001B[38;5;241m=\u001B[39m df_EU_ABC\u001B[38;5;241m.\u001B[39mgroupby([\u001B[38;5;124m'\u001B[39m\u001B[38;5;124mDatum\u001B[39m\u001B[38;5;124m'\u001B[39m, \u001B[38;5;124m'\u001B[39m\u001B[38;5;124mProdukt\u001B[39m\u001B[38;5;124m'\u001B[39m])\u001B[38;5;241m.\u001B[39msum()\u001B[38;5;241m.\u001B[39mreset_index()\n",
      "\u001B[1;31mNameError\u001B[0m: name 'df_combined' is not defined"
     ]
    }
   ],
   "source": [
    "import matplotlib.pyplot as plt\n",
    "\n",
    "# Filtern die Daten nur für die Region EU und die Produkte A, B und C\n",
    "df_EU_ABC = df_combined[(df_combined['Region'] == 'EU') & (df_combined['Produkt'].isin(['A', 'B', 'C']))]\n",
    "\n",
    "# Gruppieren die Daten nach Datum und Produkt\n",
    "grouped_data = df_EU_ABC.groupby(['Datum', 'Produkt']).sum().reset_index()\n",
    "\n",
    "# Erstelle ein Pivot-Diagramm\n",
    "pivot_data = grouped_data.pivot(index='Datum', columns='Produkt', values='Umsatz')"
   ],
   "metadata": {
    "collapsed": false
   }
  }
 ],
 "metadata": {
  "kernelspec": {
   "display_name": "Python 3",
   "language": "python",
   "name": "python3"
  },
  "language_info": {
   "codemirror_mode": {
    "name": "ipython",
    "version": 2
   },
   "file_extension": ".py",
   "mimetype": "text/x-python",
   "name": "python",
   "nbconvert_exporter": "python",
   "pygments_lexer": "ipython2",
   "version": "2.7.6"
  }
 },
 "nbformat": 4,
 "nbformat_minor": 0
}

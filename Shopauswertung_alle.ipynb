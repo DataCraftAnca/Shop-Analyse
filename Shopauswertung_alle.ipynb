{
 "cells": [
  {
   "cell_type": "code",
   "execution_count": 12,
   "metadata": {
    "collapsed": true,
    "ExecuteTime": {
     "start_time": "2023-04-26T13:12:58.699103Z",
     "end_time": "2023-04-26T13:12:58.758097Z"
    }
   },
   "outputs": [
    {
     "name": "stdout",
     "output_type": "stream",
     "text": [
      "   Datum        Umsatz Produkt Region\n",
      "0    Jan  15562.548244       A     DE\n",
      "1    Feb  14055.574404       A     DE\n",
      "2    Mrz  15633.906605       A     DE\n",
      "3    Apr  15792.846962       A     DE\n",
      "4    Mai  16947.490126       A     DE\n",
      "5    Jun  17082.748897       A     DE\n",
      "6    Jul  17965.029742       A     DE\n",
      "7    Aug  17720.174104       A     DE\n",
      "8    Sep  16870.277769       A     DE\n",
      "9    Okt  17579.239012       A     DE\n",
      "10   Nov  17567.793719       A     DE\n",
      "11   Dez  18653.342190       A     DE\n",
      "   Datum        Umsatz Produkt Region\n",
      "0    Jan  14774.456985       B     DE\n",
      "1    Feb  15176.474454       B     DE\n",
      "2    Mrz  18280.334382       B     DE\n",
      "3    Apr  19095.318361       B     DE\n",
      "4    Mai  20206.106573       B     DE\n",
      "5    Jun  20056.650473       B     DE\n",
      "6    Jul  22288.143627       B     DE\n",
      "7    Aug  21707.813329       B     DE\n",
      "8    Sep  21084.843997       B     DE\n",
      "9    Okt  21564.908777       B     DE\n",
      "10   Nov  20566.410979       B     DE\n",
      "11   Dez  22364.237781       B     DE\n",
      "   Datum         Umsatz Produkt Region\n",
      "0    Jan  148945.166650       C     DE\n",
      "1    Feb  128859.949494       C     DE\n",
      "2    Mrz  141602.709028       C     DE\n",
      "3    Apr  133780.491099       C     DE\n",
      "4    Mai  135993.779232       C     DE\n",
      "5    Jun  135206.767009       C     DE\n",
      "6    Jul  143531.783519       C     DE\n",
      "7    Aug  139714.627028       C     DE\n",
      "8    Sep  130178.025891       C     DE\n",
      "9    Okt  128966.717912       C     DE\n",
      "10   Nov  122411.822565       C     DE\n",
      "11   Dez  126539.078674       C     DE\n"
     ]
    }
   ],
   "source": [
    "#In den einzelnen Sheets Spalte Produkt Hinzufügen\n",
    "import pandas as pd\n",
    "\n",
    "#Region hinzufügen\n",
    "#Deutschland Produkt A\n",
    "df_de_1 = pd.read_excel('C:\\\\Users\\\\User\\\\Desktop\\\\praxisprojekt_april_2023\\\\Aufgabe 5 - Shop Analyse.xlsx','P1')\n",
    "\n",
    "df_de_1['Produkt'] = 'A'\n",
    "df_de_1['Region'] = 'DE'\n",
    "print(df_de_1)\n",
    "\n",
    "#Deutschland Produkt B\n",
    "df_de_2 = pd.read_excel('C:\\\\Users\\\\User\\\\Desktop\\\\praxisprojekt_april_2023\\\\Aufgabe 5 - Shop Analyse.xlsx','P2')\n",
    "\n",
    "df_de_2['Produkt'] ='B'\n",
    "df_de_2['Region'] = 'DE'\n",
    "print(df_de_2)\n",
    "\n",
    "#Deutschland Produkt C\n",
    "df_de_3 = pd.read_excel('C:\\\\Users\\\\User\\\\Desktop\\\\praxisprojekt_april_2023\\\\Aufgabe 5 - Shop Analyse.xlsx','P3')\n",
    "\n",
    "df_de_3['Produkt'] ='C'\n",
    "df_de_3['Region'] = 'DE'\n",
    "print(df_de_3)"
   ]
  },
  {
   "cell_type": "code",
   "execution_count": 13,
   "outputs": [],
   "source": [
    "#alle 3 Tabellen verbinden\n",
    "df_combined = pd.concat([df_de_1, df_de_2, df_de_3], ignore_index=True)\n",
    "\n",
    "#speichern Alle_Tabellen.csv\n",
    "df_combined.to_csv('C:\\\\Users\\\\User\\\\Desktop\\\\praxisprojekt_april_2023\\\\Alle_Tabellen.csv', index=False)"
   ],
   "metadata": {
    "collapsed": false,
    "ExecuteTime": {
     "start_time": "2023-04-26T13:13:03.532654Z",
     "end_time": "2023-04-26T13:13:03.546781Z"
    }
   }
  },
  {
   "cell_type": "code",
   "execution_count": 14,
   "outputs": [
    {
     "name": "stdout",
     "output_type": "stream",
     "text": [
      "Monat      Produkt\n",
      "April      A          1.392164e+03\n",
      "           A+B+C      2.187074e+06\n",
      "           B          1.588690e+05\n",
      "August     A          1.587996e+03\n",
      "           A+B+C      4.097987e+06\n",
      "           B          3.543405e+05\n",
      "December   A          1.603259e+03\n",
      "           A+B+C      5.971972e+06\n",
      "           B          5.476725e+05\n",
      "February   A          1.495043e+03\n",
      "           A+B+C      1.175157e+06\n",
      "           B          6.968709e+04\n",
      "January    A          1.514915e+03\n",
      "           A+B+C      8.424678e+05\n",
      "           B          3.037049e+04\n",
      "July       A          1.813789e+03\n",
      "           A+B+C      3.602816e+06\n",
      "           B          3.012125e+05\n",
      "June       A          1.588092e+03\n",
      "           A+B+C      3.090373e+06\n",
      "           B          2.440010e+05\n",
      "March      A          1.789003e+03\n",
      "           A+B+C      1.755245e+06\n",
      "           B          1.203685e+05\n",
      "May        A          1.719606e+03\n",
      "           A+B+C      2.717825e+06\n",
      "           B          2.087055e+05\n",
      "November   A          1.528727e+03\n",
      "           A+B+C      5.331418e+06\n",
      "           B          4.848200e+05\n",
      "October    A          1.836128e+03\n",
      "           A+B+C      5.048326e+06\n",
      "           B          4.551205e+05\n",
      "September  A          1.495482e+03\n",
      "           A+B+C      4.391986e+06\n",
      "           B          3.954340e+05\n",
      "Name: Umsatz, dtype: float64\n"
     ]
    }
   ],
   "source": [
    "#Europa\n",
    "#Datum in Monate umgewandelt\n",
    "\n",
    "df_eu = pd.read_csv('C:\\\\Users\\\\User\\\\Desktop\\\\praxisprojekt_april_2023\\\\Aufgabe 5 - Shopauswertung.csv', delimiter=';')\n",
    "\n",
    "df_eu['Datum'] = pd.to_datetime(df_eu['Datum'], format='%d.%m.%Y')\n",
    "\n",
    "# Spalte für den Monat erstellen\n",
    "df_eu['Monat'] = df_eu['Datum'].dt.strftime('%B')\n",
    "\n",
    "# Umsatz pro Monat und Produkt berechnen\n",
    "umsatz_pro_monat_pro_produkt = df_eu.groupby(['Monat', 'Produkt'])['Umsatz'].sum()\n",
    "\n",
    "\n",
    "# Ergebnis anzeigen\n",
    "print(umsatz_pro_monat_pro_produkt)"
   ],
   "metadata": {
    "collapsed": false,
    "ExecuteTime": {
     "start_time": "2023-04-26T13:19:15.843101Z",
     "end_time": "2023-04-26T13:19:15.884991Z"
    }
   }
  },
  {
   "cell_type": "code",
   "execution_count": 26,
   "outputs": [
    {
     "name": "stdout",
     "output_type": "stream",
     "text": [
      "Produkt              A         A+B+C             B          C_new\n",
      "Datum                                                            \n",
      "01.01.2021   17.132115   18598.65588    189.467425   18392.056339\n",
      "01.02.2021   16.396013   36098.71366   1825.467425   34256.850222\n",
      "01.03.2021  136.595746   48739.43182   3211.467425   45391.368649\n",
      "01.04.2021  161.018321   64543.14148   4570.467425   59811.655734\n",
      "01.05.2021   17.224495   81075.32567   6084.467425   74973.633750\n",
      "...                ...           ...           ...            ...\n",
      "31.05.2021    4.597326   94724.91111   7473.467425   87246.846359\n",
      "31.07.2021  139.362356  123327.45240  10575.467430  112612.622614\n",
      "31.08.2021   25.023058  139021.10930  12288.467430  126707.618812\n",
      "31.10.2021   56.993978  170955.96420  15422.467430  155476.502792\n",
      "31.12.2021  111.467425  199213.85310  18533.467430  180568.918245\n",
      "\n",
      "[365 rows x 4 columns]\n"
     ]
    }
   ],
   "source": [
    "df_eu = pd.read_csv('C:\\\\Users\\\\User\\\\Desktop\\\\praxisprojekt_april_2023\\\\Aufgabe 5 - Shopauswertung.csv',sep=';')\n",
    "\n",
    "\n",
    "df_eu_pivot = df_eu.pivot(columns='Produkt',index='Datum', values='Umsatz')\n",
    "df_eu_pivot['C_new']= df_eu_pivot['A+B+C']-df_eu_pivot['A']-df_eu_pivot['B']\n",
    "\n",
    "df_eu_pivot.columns\n",
    "print(df_eu_pivot)"
   ],
   "metadata": {
    "collapsed": false,
    "ExecuteTime": {
     "start_time": "2023-04-26T13:33:23.523063Z",
     "end_time": "2023-04-26T13:33:23.578584Z"
    }
   }
  },
  {
   "cell_type": "code",
   "execution_count": 29,
   "outputs": [],
   "source": [],
   "metadata": {
    "collapsed": false,
    "ExecuteTime": {
     "start_time": "2023-04-26T13:39:59.107711Z",
     "end_time": "2023-04-26T13:39:59.130649Z"
    }
   }
  },
  {
   "cell_type": "code",
   "execution_count": 29,
   "outputs": [
    {
     "name": "stdout",
     "output_type": "stream",
     "text": [
      "Produkt           A         A+B+C             B              C\n",
      "Datum                                                         \n",
      "Jan       17.132115   18598.65588    189.467425   18392.056339\n",
      "Feb       16.396013   36098.71366   1825.467425   34256.850222\n",
      "Mar      136.595746   48739.43182   3211.467425   45391.368649\n",
      "Apr      161.018321   64543.14148   4570.467425   59811.655734\n",
      "May       17.224495   81075.32567   6084.467425   74973.633750\n",
      "...             ...           ...           ...            ...\n",
      "May        4.597326   94724.91111   7473.467425   87246.846359\n",
      "Jul      139.362356  123327.45240  10575.467430  112612.622614\n",
      "Aug       25.023058  139021.10930  12288.467430  126707.618812\n",
      "Oct       56.993978  170955.96420  15422.467430  155476.502792\n",
      "Dec      111.467425  199213.85310  18533.467430  180568.918245\n",
      "\n",
      "[365 rows x 4 columns]\n"
     ]
    }
   ],
   "source": [
    "import pandas as pd\n",
    "\n",
    "\n",
    "df_eu = pd.read_csv('C:\\\\Users\\\\User\\\\Desktop\\\\praxisprojekt_april_2023\\\\Aufgabe 5 - Shopauswertung.csv', delimiter=';')\n",
    "\n",
    "df_eu_pivot = df_eu.pivot(columns='Produkt', index='Datum', values='Umsatz')\n",
    "df_eu_pivot['C'] = df_eu_pivot['A+B+C'] - df_eu_pivot['A'] - df_eu_pivot['B']\n",
    "\n",
    "# In Monate geändert\n",
    "df_eu_pivot.index = pd.to_datetime(df_eu_pivot.index, format='%d.%m.%Y')\n",
    "df_eu_pivot.index = df_eu_pivot.index.strftime('%b')\n",
    "\n",
    "print(df_eu_pivot)"
   ],
   "metadata": {
    "collapsed": false,
    "ExecuteTime": {
     "start_time": "2023-04-26T13:39:44.928264Z",
     "end_time": "2023-04-26T13:39:45.003574Z"
    }
   }
  },
  {
   "cell_type": "code",
   "execution_count": 30,
   "outputs": [
    {
     "name": "stdout",
     "output_type": "stream",
     "text": [
      "Produkt           A             B              C\n",
      "Datum                                           \n",
      "Jan       17.132115    189.467425   18392.056339\n",
      "Feb       16.396013   1825.467425   34256.850222\n",
      "Mar      136.595746   3211.467425   45391.368649\n",
      "Apr      161.018321   4570.467425   59811.655734\n",
      "May       17.224495   6084.467425   74973.633750\n",
      "...             ...           ...            ...\n",
      "May        4.597326   7473.467425   87246.846359\n",
      "Jul      139.362356  10575.467430  112612.622614\n",
      "Aug       25.023058  12288.467430  126707.618812\n",
      "Oct       56.993978  15422.467430  155476.502792\n",
      "Dec      111.467425  18533.467430  180568.918245\n",
      "\n",
      "[365 rows x 3 columns]\n"
     ]
    }
   ],
   "source": [
    "df_eu_pivot = df_eu_pivot.drop('A+B+C',axis=1)\n",
    "print(df_eu_pivot)"
   ],
   "metadata": {
    "collapsed": false,
    "ExecuteTime": {
     "start_time": "2023-04-26T13:46:04.393506Z",
     "end_time": "2023-04-26T13:46:04.442888Z"
    }
   }
  },
  {
   "cell_type": "code",
   "execution_count": 40,
   "outputs": [
    {
     "data": {
      "text/plain": "Umsatz     0.269320      0.389914      0.671818      1.028544        \nDatum                                                                \n01.01.2021           NaN           NaN           NaN           NaN  \\\n01.02.2021           NaN           NaN           NaN           NaN   \n01.03.2021           NaN           NaN           NaN           NaN   \n01.04.2021           NaN           NaN           NaN           NaN   \n01.05.2021           NaN           NaN           NaN           NaN   \n...                  ...           ...           ...           ...   \n31.05.2021           NaN           NaN           NaN           NaN   \n31.07.2021           NaN           NaN           NaN           NaN   \n31.08.2021           NaN           NaN           NaN           NaN   \n31.10.2021           NaN           NaN           NaN           NaN   \n31.12.2021           NaN           NaN           NaN           NaN   \n\nUmsatz     1.099651      1.590758      1.650110      1.686760        \nDatum                                                                \n01.01.2021           NaN           NaN           NaN           NaN  \\\n01.02.2021           NaN           NaN           NaN           NaN   \n01.03.2021           NaN           NaN           NaN           NaN   \n01.04.2021           NaN           NaN           NaN           NaN   \n01.05.2021           NaN           NaN           NaN           NaN   \n...                  ...           ...           ...           ...   \n31.05.2021           NaN           NaN           NaN           NaN   \n31.07.2021           NaN           NaN           NaN           NaN   \n31.08.2021           NaN           NaN           NaN           NaN   \n31.10.2021           NaN           NaN           NaN           NaN   \n31.12.2021           NaN           NaN           NaN           NaN   \n\nUmsatz     1.796596      2.130489       ... 195244.421600 195843.633300   \nDatum                                   ...                               \n01.01.2021           NaN           NaN  ...           NaN           NaN  \\\n01.02.2021           NaN           NaN  ...           NaN           NaN   \n01.03.2021           NaN           NaN  ...           NaN           NaN   \n01.04.2021           NaN           NaN  ...           NaN           NaN   \n01.05.2021           NaN           NaN  ...           NaN           NaN   \n...                  ...           ...  ...           ...           ...   \n31.05.2021           NaN           NaN  ...           NaN           NaN   \n31.07.2021           NaN           NaN  ...           NaN           NaN   \n31.08.2021           NaN           NaN  ...           NaN           NaN   \n31.10.2021           NaN           NaN  ...           NaN           NaN   \n31.12.2021           NaN           NaN  ...           NaN           NaN   \n\nUmsatz     196645.496900 196757.853600 197050.380500 197909.241600   \nDatum                                                                \n01.01.2021           NaN           NaN           NaN           NaN  \\\n01.02.2021           NaN           NaN           NaN           NaN   \n01.03.2021           NaN           NaN           NaN           NaN   \n01.04.2021           NaN           NaN           NaN           NaN   \n01.05.2021           NaN           NaN           NaN           NaN   \n...                  ...           ...           ...           ...   \n31.05.2021           NaN           NaN           NaN           NaN   \n31.07.2021           NaN           NaN           NaN           NaN   \n31.08.2021           NaN           NaN           NaN           NaN   \n31.10.2021           NaN           NaN           NaN           NaN   \n31.12.2021           NaN           NaN           NaN           NaN   \n\nUmsatz     198014.840500 198355.276000 199081.446100 199213.853100  \nDatum                                                               \n01.01.2021           NaN           NaN           NaN           NaN  \n01.02.2021           NaN           NaN           NaN           NaN  \n01.03.2021           NaN           NaN           NaN           NaN  \n01.04.2021           NaN           NaN           NaN           NaN  \n01.05.2021           NaN           NaN           NaN           NaN  \n...                  ...           ...           ...           ...  \n31.05.2021           NaN           NaN           NaN           NaN  \n31.07.2021           NaN           NaN           NaN           NaN  \n31.08.2021           NaN           NaN           NaN           NaN  \n31.10.2021           NaN           NaN           NaN           NaN  \n31.12.2021           NaN           NaN           NaN         A+B+C  \n\n[365 rows x 1087 columns]",
      "text/html": "<div>\n<style scoped>\n    .dataframe tbody tr th:only-of-type {\n        vertical-align: middle;\n    }\n\n    .dataframe tbody tr th {\n        vertical-align: top;\n    }\n\n    .dataframe thead th {\n        text-align: right;\n    }\n</style>\n<table border=\"1\" class=\"dataframe\">\n  <thead>\n    <tr style=\"text-align: right;\">\n      <th>Umsatz</th>\n      <th>0.269320</th>\n      <th>0.389914</th>\n      <th>0.671818</th>\n      <th>1.028544</th>\n      <th>1.099651</th>\n      <th>1.590758</th>\n      <th>1.650110</th>\n      <th>1.686760</th>\n      <th>1.796596</th>\n      <th>2.130489</th>\n      <th>...</th>\n      <th>195244.421600</th>\n      <th>195843.633300</th>\n      <th>196645.496900</th>\n      <th>196757.853600</th>\n      <th>197050.380500</th>\n      <th>197909.241600</th>\n      <th>198014.840500</th>\n      <th>198355.276000</th>\n      <th>199081.446100</th>\n      <th>199213.853100</th>\n    </tr>\n    <tr>\n      <th>Datum</th>\n      <th></th>\n      <th></th>\n      <th></th>\n      <th></th>\n      <th></th>\n      <th></th>\n      <th></th>\n      <th></th>\n      <th></th>\n      <th></th>\n      <th></th>\n      <th></th>\n      <th></th>\n      <th></th>\n      <th></th>\n      <th></th>\n      <th></th>\n      <th></th>\n      <th></th>\n      <th></th>\n      <th></th>\n    </tr>\n  </thead>\n  <tbody>\n    <tr>\n      <th>01.01.2021</th>\n      <td>NaN</td>\n      <td>NaN</td>\n      <td>NaN</td>\n      <td>NaN</td>\n      <td>NaN</td>\n      <td>NaN</td>\n      <td>NaN</td>\n      <td>NaN</td>\n      <td>NaN</td>\n      <td>NaN</td>\n      <td>...</td>\n      <td>NaN</td>\n      <td>NaN</td>\n      <td>NaN</td>\n      <td>NaN</td>\n      <td>NaN</td>\n      <td>NaN</td>\n      <td>NaN</td>\n      <td>NaN</td>\n      <td>NaN</td>\n      <td>NaN</td>\n    </tr>\n    <tr>\n      <th>01.02.2021</th>\n      <td>NaN</td>\n      <td>NaN</td>\n      <td>NaN</td>\n      <td>NaN</td>\n      <td>NaN</td>\n      <td>NaN</td>\n      <td>NaN</td>\n      <td>NaN</td>\n      <td>NaN</td>\n      <td>NaN</td>\n      <td>...</td>\n      <td>NaN</td>\n      <td>NaN</td>\n      <td>NaN</td>\n      <td>NaN</td>\n      <td>NaN</td>\n      <td>NaN</td>\n      <td>NaN</td>\n      <td>NaN</td>\n      <td>NaN</td>\n      <td>NaN</td>\n    </tr>\n    <tr>\n      <th>01.03.2021</th>\n      <td>NaN</td>\n      <td>NaN</td>\n      <td>NaN</td>\n      <td>NaN</td>\n      <td>NaN</td>\n      <td>NaN</td>\n      <td>NaN</td>\n      <td>NaN</td>\n      <td>NaN</td>\n      <td>NaN</td>\n      <td>...</td>\n      <td>NaN</td>\n      <td>NaN</td>\n      <td>NaN</td>\n      <td>NaN</td>\n      <td>NaN</td>\n      <td>NaN</td>\n      <td>NaN</td>\n      <td>NaN</td>\n      <td>NaN</td>\n      <td>NaN</td>\n    </tr>\n    <tr>\n      <th>01.04.2021</th>\n      <td>NaN</td>\n      <td>NaN</td>\n      <td>NaN</td>\n      <td>NaN</td>\n      <td>NaN</td>\n      <td>NaN</td>\n      <td>NaN</td>\n      <td>NaN</td>\n      <td>NaN</td>\n      <td>NaN</td>\n      <td>...</td>\n      <td>NaN</td>\n      <td>NaN</td>\n      <td>NaN</td>\n      <td>NaN</td>\n      <td>NaN</td>\n      <td>NaN</td>\n      <td>NaN</td>\n      <td>NaN</td>\n      <td>NaN</td>\n      <td>NaN</td>\n    </tr>\n    <tr>\n      <th>01.05.2021</th>\n      <td>NaN</td>\n      <td>NaN</td>\n      <td>NaN</td>\n      <td>NaN</td>\n      <td>NaN</td>\n      <td>NaN</td>\n      <td>NaN</td>\n      <td>NaN</td>\n      <td>NaN</td>\n      <td>NaN</td>\n      <td>...</td>\n      <td>NaN</td>\n      <td>NaN</td>\n      <td>NaN</td>\n      <td>NaN</td>\n      <td>NaN</td>\n      <td>NaN</td>\n      <td>NaN</td>\n      <td>NaN</td>\n      <td>NaN</td>\n      <td>NaN</td>\n    </tr>\n    <tr>\n      <th>...</th>\n      <td>...</td>\n      <td>...</td>\n      <td>...</td>\n      <td>...</td>\n      <td>...</td>\n      <td>...</td>\n      <td>...</td>\n      <td>...</td>\n      <td>...</td>\n      <td>...</td>\n      <td>...</td>\n      <td>...</td>\n      <td>...</td>\n      <td>...</td>\n      <td>...</td>\n      <td>...</td>\n      <td>...</td>\n      <td>...</td>\n      <td>...</td>\n      <td>...</td>\n      <td>...</td>\n    </tr>\n    <tr>\n      <th>31.05.2021</th>\n      <td>NaN</td>\n      <td>NaN</td>\n      <td>NaN</td>\n      <td>NaN</td>\n      <td>NaN</td>\n      <td>NaN</td>\n      <td>NaN</td>\n      <td>NaN</td>\n      <td>NaN</td>\n      <td>NaN</td>\n      <td>...</td>\n      <td>NaN</td>\n      <td>NaN</td>\n      <td>NaN</td>\n      <td>NaN</td>\n      <td>NaN</td>\n      <td>NaN</td>\n      <td>NaN</td>\n      <td>NaN</td>\n      <td>NaN</td>\n      <td>NaN</td>\n    </tr>\n    <tr>\n      <th>31.07.2021</th>\n      <td>NaN</td>\n      <td>NaN</td>\n      <td>NaN</td>\n      <td>NaN</td>\n      <td>NaN</td>\n      <td>NaN</td>\n      <td>NaN</td>\n      <td>NaN</td>\n      <td>NaN</td>\n      <td>NaN</td>\n      <td>...</td>\n      <td>NaN</td>\n      <td>NaN</td>\n      <td>NaN</td>\n      <td>NaN</td>\n      <td>NaN</td>\n      <td>NaN</td>\n      <td>NaN</td>\n      <td>NaN</td>\n      <td>NaN</td>\n      <td>NaN</td>\n    </tr>\n    <tr>\n      <th>31.08.2021</th>\n      <td>NaN</td>\n      <td>NaN</td>\n      <td>NaN</td>\n      <td>NaN</td>\n      <td>NaN</td>\n      <td>NaN</td>\n      <td>NaN</td>\n      <td>NaN</td>\n      <td>NaN</td>\n      <td>NaN</td>\n      <td>...</td>\n      <td>NaN</td>\n      <td>NaN</td>\n      <td>NaN</td>\n      <td>NaN</td>\n      <td>NaN</td>\n      <td>NaN</td>\n      <td>NaN</td>\n      <td>NaN</td>\n      <td>NaN</td>\n      <td>NaN</td>\n    </tr>\n    <tr>\n      <th>31.10.2021</th>\n      <td>NaN</td>\n      <td>NaN</td>\n      <td>NaN</td>\n      <td>NaN</td>\n      <td>NaN</td>\n      <td>NaN</td>\n      <td>NaN</td>\n      <td>NaN</td>\n      <td>NaN</td>\n      <td>NaN</td>\n      <td>...</td>\n      <td>NaN</td>\n      <td>NaN</td>\n      <td>NaN</td>\n      <td>NaN</td>\n      <td>NaN</td>\n      <td>NaN</td>\n      <td>NaN</td>\n      <td>NaN</td>\n      <td>NaN</td>\n      <td>NaN</td>\n    </tr>\n    <tr>\n      <th>31.12.2021</th>\n      <td>NaN</td>\n      <td>NaN</td>\n      <td>NaN</td>\n      <td>NaN</td>\n      <td>NaN</td>\n      <td>NaN</td>\n      <td>NaN</td>\n      <td>NaN</td>\n      <td>NaN</td>\n      <td>NaN</td>\n      <td>...</td>\n      <td>NaN</td>\n      <td>NaN</td>\n      <td>NaN</td>\n      <td>NaN</td>\n      <td>NaN</td>\n      <td>NaN</td>\n      <td>NaN</td>\n      <td>NaN</td>\n      <td>NaN</td>\n      <td>A+B+C</td>\n    </tr>\n  </tbody>\n</table>\n<p>365 rows × 1087 columns</p>\n</div>"
     },
     "execution_count": 40,
     "metadata": {},
     "output_type": "execute_result"
    }
   ],
   "source": [
    "df_eu_pivot = df_eu.pivot(columns='Umsatz', index='Datum', values='Produkt')\n",
    "\n",
    "df_eu_pivot"
   ],
   "metadata": {
    "collapsed": false,
    "ExecuteTime": {
     "start_time": "2023-04-26T14:00:22.815094Z",
     "end_time": "2023-04-26T14:00:22.849997Z"
    }
   }
  },
  {
   "cell_type": "code",
   "execution_count": null,
   "outputs": [],
   "source": [],
   "metadata": {
    "collapsed": false
   }
  }
 ],
 "metadata": {
  "kernelspec": {
   "display_name": "Python 3",
   "language": "python",
   "name": "python3"
  },
  "language_info": {
   "codemirror_mode": {
    "name": "ipython",
    "version": 2
   },
   "file_extension": ".py",
   "mimetype": "text/x-python",
   "name": "python",
   "nbconvert_exporter": "python",
   "pygments_lexer": "ipython2",
   "version": "2.7.6"
  }
 },
 "nbformat": 4,
 "nbformat_minor": 0
}

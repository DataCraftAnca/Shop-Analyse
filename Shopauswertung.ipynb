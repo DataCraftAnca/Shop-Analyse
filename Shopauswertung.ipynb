{
 "cells": [
  {
   "cell_type": "code",
   "execution_count": null,
   "metadata": {
    "collapsed": true
   },
   "outputs": [],
   "source": [
    "#Welche Produkte verlaufen in den Shops wie?"
   ]
  },
  {
   "cell_type": "code",
   "execution_count": 76,
   "outputs": [
    {
     "data": {
      "text/plain": "   Datum         Umsatz\n0    Jan  148945.166650\n1    Feb  128859.949494\n2    Mrz  141602.709028\n3    Apr  133780.491099\n4    Mai  135993.779232\n5    Jun  135206.767009\n6    Jul  143531.783519\n7    Aug  139714.627028\n8    Sep  130178.025891\n9    Okt  128966.717912\n10   Nov  122411.822565\n11   Dez  126539.078674\n12   Jan   14774.456985\n13   Feb   15176.474454\n14   Mrz   18280.334382\n15   Apr   19095.318361\n16   Mai   20206.106573\n17   Jun   20056.650473\n18   Jul   22288.143627\n19   Aug   21707.813329\n20   Sep   21084.843997\n21   Okt   21564.908777\n22   Nov   20566.410979\n23   Dez   22364.237781\n24   Jan   15562.548244\n25   Feb   14055.574404\n26   Mrz   15633.906605\n27   Apr   15792.846962\n28   Mai   16947.490126\n29   Jun   17082.748897\n30   Jul   17965.029742\n31   Aug   17720.174104\n32   Sep   16870.277769\n33   Okt   17579.239012\n34   Nov   17567.793719\n35   Dez   18653.342190",
      "text/html": "<div>\n<style scoped>\n    .dataframe tbody tr th:only-of-type {\n        vertical-align: middle;\n    }\n\n    .dataframe tbody tr th {\n        vertical-align: top;\n    }\n\n    .dataframe thead th {\n        text-align: right;\n    }\n</style>\n<table border=\"1\" class=\"dataframe\">\n  <thead>\n    <tr style=\"text-align: right;\">\n      <th></th>\n      <th>Datum</th>\n      <th>Umsatz</th>\n    </tr>\n  </thead>\n  <tbody>\n    <tr>\n      <th>0</th>\n      <td>Jan</td>\n      <td>148945.166650</td>\n    </tr>\n    <tr>\n      <th>1</th>\n      <td>Feb</td>\n      <td>128859.949494</td>\n    </tr>\n    <tr>\n      <th>2</th>\n      <td>Mrz</td>\n      <td>141602.709028</td>\n    </tr>\n    <tr>\n      <th>3</th>\n      <td>Apr</td>\n      <td>133780.491099</td>\n    </tr>\n    <tr>\n      <th>4</th>\n      <td>Mai</td>\n      <td>135993.779232</td>\n    </tr>\n    <tr>\n      <th>5</th>\n      <td>Jun</td>\n      <td>135206.767009</td>\n    </tr>\n    <tr>\n      <th>6</th>\n      <td>Jul</td>\n      <td>143531.783519</td>\n    </tr>\n    <tr>\n      <th>7</th>\n      <td>Aug</td>\n      <td>139714.627028</td>\n    </tr>\n    <tr>\n      <th>8</th>\n      <td>Sep</td>\n      <td>130178.025891</td>\n    </tr>\n    <tr>\n      <th>9</th>\n      <td>Okt</td>\n      <td>128966.717912</td>\n    </tr>\n    <tr>\n      <th>10</th>\n      <td>Nov</td>\n      <td>122411.822565</td>\n    </tr>\n    <tr>\n      <th>11</th>\n      <td>Dez</td>\n      <td>126539.078674</td>\n    </tr>\n    <tr>\n      <th>12</th>\n      <td>Jan</td>\n      <td>14774.456985</td>\n    </tr>\n    <tr>\n      <th>13</th>\n      <td>Feb</td>\n      <td>15176.474454</td>\n    </tr>\n    <tr>\n      <th>14</th>\n      <td>Mrz</td>\n      <td>18280.334382</td>\n    </tr>\n    <tr>\n      <th>15</th>\n      <td>Apr</td>\n      <td>19095.318361</td>\n    </tr>\n    <tr>\n      <th>16</th>\n      <td>Mai</td>\n      <td>20206.106573</td>\n    </tr>\n    <tr>\n      <th>17</th>\n      <td>Jun</td>\n      <td>20056.650473</td>\n    </tr>\n    <tr>\n      <th>18</th>\n      <td>Jul</td>\n      <td>22288.143627</td>\n    </tr>\n    <tr>\n      <th>19</th>\n      <td>Aug</td>\n      <td>21707.813329</td>\n    </tr>\n    <tr>\n      <th>20</th>\n      <td>Sep</td>\n      <td>21084.843997</td>\n    </tr>\n    <tr>\n      <th>21</th>\n      <td>Okt</td>\n      <td>21564.908777</td>\n    </tr>\n    <tr>\n      <th>22</th>\n      <td>Nov</td>\n      <td>20566.410979</td>\n    </tr>\n    <tr>\n      <th>23</th>\n      <td>Dez</td>\n      <td>22364.237781</td>\n    </tr>\n    <tr>\n      <th>24</th>\n      <td>Jan</td>\n      <td>15562.548244</td>\n    </tr>\n    <tr>\n      <th>25</th>\n      <td>Feb</td>\n      <td>14055.574404</td>\n    </tr>\n    <tr>\n      <th>26</th>\n      <td>Mrz</td>\n      <td>15633.906605</td>\n    </tr>\n    <tr>\n      <th>27</th>\n      <td>Apr</td>\n      <td>15792.846962</td>\n    </tr>\n    <tr>\n      <th>28</th>\n      <td>Mai</td>\n      <td>16947.490126</td>\n    </tr>\n    <tr>\n      <th>29</th>\n      <td>Jun</td>\n      <td>17082.748897</td>\n    </tr>\n    <tr>\n      <th>30</th>\n      <td>Jul</td>\n      <td>17965.029742</td>\n    </tr>\n    <tr>\n      <th>31</th>\n      <td>Aug</td>\n      <td>17720.174104</td>\n    </tr>\n    <tr>\n      <th>32</th>\n      <td>Sep</td>\n      <td>16870.277769</td>\n    </tr>\n    <tr>\n      <th>33</th>\n      <td>Okt</td>\n      <td>17579.239012</td>\n    </tr>\n    <tr>\n      <th>34</th>\n      <td>Nov</td>\n      <td>17567.793719</td>\n    </tr>\n    <tr>\n      <th>35</th>\n      <td>Dez</td>\n      <td>18653.342190</td>\n    </tr>\n  </tbody>\n</table>\n</div>"
     },
     "execution_count": 76,
     "metadata": {},
     "output_type": "execute_result"
    }
   ],
   "source": [
    "import pandas as pd\n",
    "\n",
    "#DE\n",
    "df_de = pd.read_excel('C:\\\\Users\\\\User\\\\Desktop\\\\praxisprojekt_april_2023\\\\Aufgabe 5 - Shop Analyse.xlsx')\n",
    "\n",
    "#alle 3 Seiten zusammen\n",
    "xl_de = pd.ExcelFile('C:\\\\Users\\\\User\\\\Desktop\\\\praxisprojekt_april_2023\\\\Aufgabe 5 - Shop Analyse.xlsx')\n",
    "df_De = pd.concat([xl_de.parse(sheet) for sheet in xl_de.sheet_names], ignore_index=True)\n",
    "\n",
    "df_De.head(40)"
   ],
   "metadata": {
    "collapsed": false,
    "ExecuteTime": {
     "start_time": "2023-04-26T12:15:01.228652Z",
     "end_time": "2023-04-26T12:15:01.278521Z"
    }
   }
  },
  {
   "cell_type": "code",
   "execution_count": 79,
   "outputs": [
    {
     "data": {
      "text/plain": "              Umsatz                                                \nDatum            Apr            Aug            Dez            Feb   \n0                NaN            NaN            NaN            NaN  \\\n1                NaN            NaN            NaN  128859.949494   \n2                NaN            NaN            NaN            NaN   \n3      133780.491099            NaN            NaN            NaN   \n4                NaN            NaN            NaN            NaN   \n5                NaN            NaN            NaN            NaN   \n6                NaN            NaN            NaN            NaN   \n7                NaN  139714.627028            NaN            NaN   \n8                NaN            NaN            NaN            NaN   \n9                NaN            NaN            NaN            NaN   \n10               NaN            NaN            NaN            NaN   \n11               NaN            NaN  126539.078674            NaN   \n12               NaN            NaN            NaN            NaN   \n13               NaN            NaN            NaN   15176.474454   \n14               NaN            NaN            NaN            NaN   \n15      19095.318361            NaN            NaN            NaN   \n16               NaN            NaN            NaN            NaN   \n17               NaN            NaN            NaN            NaN   \n18               NaN            NaN            NaN            NaN   \n19               NaN   21707.813329            NaN            NaN   \n20               NaN            NaN            NaN            NaN   \n21               NaN            NaN            NaN            NaN   \n22               NaN            NaN            NaN            NaN   \n23               NaN            NaN   22364.237781            NaN   \n24               NaN            NaN            NaN            NaN   \n25               NaN            NaN            NaN   14055.574404   \n26               NaN            NaN            NaN            NaN   \n27      15792.846962            NaN            NaN            NaN   \n28               NaN            NaN            NaN            NaN   \n29               NaN            NaN            NaN            NaN   \n30               NaN            NaN            NaN            NaN   \n31               NaN   17720.174104            NaN            NaN   \n32               NaN            NaN            NaN            NaN   \n33               NaN            NaN            NaN            NaN   \n34               NaN            NaN            NaN            NaN   \n35               NaN            NaN   18653.342190            NaN   \n\n                                                                    \nDatum            Jan            Jul            Jun            Mai   \n0      148945.166650            NaN            NaN            NaN  \\\n1                NaN            NaN            NaN            NaN   \n2                NaN            NaN            NaN            NaN   \n3                NaN            NaN            NaN            NaN   \n4                NaN            NaN            NaN  135993.779232   \n5                NaN            NaN  135206.767009            NaN   \n6                NaN  143531.783519            NaN            NaN   \n7                NaN            NaN            NaN            NaN   \n8                NaN            NaN            NaN            NaN   \n9                NaN            NaN            NaN            NaN   \n10               NaN            NaN            NaN            NaN   \n11               NaN            NaN            NaN            NaN   \n12      14774.456985            NaN            NaN            NaN   \n13               NaN            NaN            NaN            NaN   \n14               NaN            NaN            NaN            NaN   \n15               NaN            NaN            NaN            NaN   \n16               NaN            NaN            NaN   20206.106573   \n17               NaN            NaN   20056.650473            NaN   \n18               NaN   22288.143627            NaN            NaN   \n19               NaN            NaN            NaN            NaN   \n20               NaN            NaN            NaN            NaN   \n21               NaN            NaN            NaN            NaN   \n22               NaN            NaN            NaN            NaN   \n23               NaN            NaN            NaN            NaN   \n24      15562.548244            NaN            NaN            NaN   \n25               NaN            NaN            NaN            NaN   \n26               NaN            NaN            NaN            NaN   \n27               NaN            NaN            NaN            NaN   \n28               NaN            NaN            NaN   16947.490126   \n29               NaN            NaN   17082.748897            NaN   \n30               NaN   17965.029742            NaN            NaN   \n31               NaN            NaN            NaN            NaN   \n32               NaN            NaN            NaN            NaN   \n33               NaN            NaN            NaN            NaN   \n34               NaN            NaN            NaN            NaN   \n35               NaN            NaN            NaN            NaN   \n\n                                                                   \nDatum            Mrz            Nov            Okt            Sep  \n0                NaN            NaN            NaN            NaN  \n1                NaN            NaN            NaN            NaN  \n2      141602.709028            NaN            NaN            NaN  \n3                NaN            NaN            NaN            NaN  \n4                NaN            NaN            NaN            NaN  \n5                NaN            NaN            NaN            NaN  \n6                NaN            NaN            NaN            NaN  \n7                NaN            NaN            NaN            NaN  \n8                NaN            NaN            NaN  130178.025891  \n9                NaN            NaN  128966.717912            NaN  \n10               NaN  122411.822565            NaN            NaN  \n11               NaN            NaN            NaN            NaN  \n12               NaN            NaN            NaN            NaN  \n13               NaN            NaN            NaN            NaN  \n14      18280.334382            NaN            NaN            NaN  \n15               NaN            NaN            NaN            NaN  \n16               NaN            NaN            NaN            NaN  \n17               NaN            NaN            NaN            NaN  \n18               NaN            NaN            NaN            NaN  \n19               NaN            NaN            NaN            NaN  \n20               NaN            NaN            NaN   21084.843997  \n21               NaN            NaN   21564.908777            NaN  \n22               NaN   20566.410979            NaN            NaN  \n23               NaN            NaN            NaN            NaN  \n24               NaN            NaN            NaN            NaN  \n25               NaN            NaN            NaN            NaN  \n26      15633.906605            NaN            NaN            NaN  \n27               NaN            NaN            NaN            NaN  \n28               NaN            NaN            NaN            NaN  \n29               NaN            NaN            NaN            NaN  \n30               NaN            NaN            NaN            NaN  \n31               NaN            NaN            NaN            NaN  \n32               NaN            NaN            NaN   16870.277769  \n33               NaN            NaN   17579.239012            NaN  \n34               NaN   17567.793719            NaN            NaN  \n35               NaN            NaN            NaN            NaN  ",
      "text/html": "<div>\n<style scoped>\n    .dataframe tbody tr th:only-of-type {\n        vertical-align: middle;\n    }\n\n    .dataframe tbody tr th {\n        vertical-align: top;\n    }\n\n    .dataframe thead tr th {\n        text-align: left;\n    }\n</style>\n<table border=\"1\" class=\"dataframe\">\n  <thead>\n    <tr>\n      <th></th>\n      <th colspan=\"12\" halign=\"left\">Umsatz</th>\n    </tr>\n    <tr>\n      <th>Datum</th>\n      <th>Apr</th>\n      <th>Aug</th>\n      <th>Dez</th>\n      <th>Feb</th>\n      <th>Jan</th>\n      <th>Jul</th>\n      <th>Jun</th>\n      <th>Mai</th>\n      <th>Mrz</th>\n      <th>Nov</th>\n      <th>Okt</th>\n      <th>Sep</th>\n    </tr>\n  </thead>\n  <tbody>\n    <tr>\n      <th>0</th>\n      <td>NaN</td>\n      <td>NaN</td>\n      <td>NaN</td>\n      <td>NaN</td>\n      <td>148945.166650</td>\n      <td>NaN</td>\n      <td>NaN</td>\n      <td>NaN</td>\n      <td>NaN</td>\n      <td>NaN</td>\n      <td>NaN</td>\n      <td>NaN</td>\n    </tr>\n    <tr>\n      <th>1</th>\n      <td>NaN</td>\n      <td>NaN</td>\n      <td>NaN</td>\n      <td>128859.949494</td>\n      <td>NaN</td>\n      <td>NaN</td>\n      <td>NaN</td>\n      <td>NaN</td>\n      <td>NaN</td>\n      <td>NaN</td>\n      <td>NaN</td>\n      <td>NaN</td>\n    </tr>\n    <tr>\n      <th>2</th>\n      <td>NaN</td>\n      <td>NaN</td>\n      <td>NaN</td>\n      <td>NaN</td>\n      <td>NaN</td>\n      <td>NaN</td>\n      <td>NaN</td>\n      <td>NaN</td>\n      <td>141602.709028</td>\n      <td>NaN</td>\n      <td>NaN</td>\n      <td>NaN</td>\n    </tr>\n    <tr>\n      <th>3</th>\n      <td>133780.491099</td>\n      <td>NaN</td>\n      <td>NaN</td>\n      <td>NaN</td>\n      <td>NaN</td>\n      <td>NaN</td>\n      <td>NaN</td>\n      <td>NaN</td>\n      <td>NaN</td>\n      <td>NaN</td>\n      <td>NaN</td>\n      <td>NaN</td>\n    </tr>\n    <tr>\n      <th>4</th>\n      <td>NaN</td>\n      <td>NaN</td>\n      <td>NaN</td>\n      <td>NaN</td>\n      <td>NaN</td>\n      <td>NaN</td>\n      <td>NaN</td>\n      <td>135993.779232</td>\n      <td>NaN</td>\n      <td>NaN</td>\n      <td>NaN</td>\n      <td>NaN</td>\n    </tr>\n    <tr>\n      <th>5</th>\n      <td>NaN</td>\n      <td>NaN</td>\n      <td>NaN</td>\n      <td>NaN</td>\n      <td>NaN</td>\n      <td>NaN</td>\n      <td>135206.767009</td>\n      <td>NaN</td>\n      <td>NaN</td>\n      <td>NaN</td>\n      <td>NaN</td>\n      <td>NaN</td>\n    </tr>\n    <tr>\n      <th>6</th>\n      <td>NaN</td>\n      <td>NaN</td>\n      <td>NaN</td>\n      <td>NaN</td>\n      <td>NaN</td>\n      <td>143531.783519</td>\n      <td>NaN</td>\n      <td>NaN</td>\n      <td>NaN</td>\n      <td>NaN</td>\n      <td>NaN</td>\n      <td>NaN</td>\n    </tr>\n    <tr>\n      <th>7</th>\n      <td>NaN</td>\n      <td>139714.627028</td>\n      <td>NaN</td>\n      <td>NaN</td>\n      <td>NaN</td>\n      <td>NaN</td>\n      <td>NaN</td>\n      <td>NaN</td>\n      <td>NaN</td>\n      <td>NaN</td>\n      <td>NaN</td>\n      <td>NaN</td>\n    </tr>\n    <tr>\n      <th>8</th>\n      <td>NaN</td>\n      <td>NaN</td>\n      <td>NaN</td>\n      <td>NaN</td>\n      <td>NaN</td>\n      <td>NaN</td>\n      <td>NaN</td>\n      <td>NaN</td>\n      <td>NaN</td>\n      <td>NaN</td>\n      <td>NaN</td>\n      <td>130178.025891</td>\n    </tr>\n    <tr>\n      <th>9</th>\n      <td>NaN</td>\n      <td>NaN</td>\n      <td>NaN</td>\n      <td>NaN</td>\n      <td>NaN</td>\n      <td>NaN</td>\n      <td>NaN</td>\n      <td>NaN</td>\n      <td>NaN</td>\n      <td>NaN</td>\n      <td>128966.717912</td>\n      <td>NaN</td>\n    </tr>\n    <tr>\n      <th>10</th>\n      <td>NaN</td>\n      <td>NaN</td>\n      <td>NaN</td>\n      <td>NaN</td>\n      <td>NaN</td>\n      <td>NaN</td>\n      <td>NaN</td>\n      <td>NaN</td>\n      <td>NaN</td>\n      <td>122411.822565</td>\n      <td>NaN</td>\n      <td>NaN</td>\n    </tr>\n    <tr>\n      <th>11</th>\n      <td>NaN</td>\n      <td>NaN</td>\n      <td>126539.078674</td>\n      <td>NaN</td>\n      <td>NaN</td>\n      <td>NaN</td>\n      <td>NaN</td>\n      <td>NaN</td>\n      <td>NaN</td>\n      <td>NaN</td>\n      <td>NaN</td>\n      <td>NaN</td>\n    </tr>\n    <tr>\n      <th>12</th>\n      <td>NaN</td>\n      <td>NaN</td>\n      <td>NaN</td>\n      <td>NaN</td>\n      <td>14774.456985</td>\n      <td>NaN</td>\n      <td>NaN</td>\n      <td>NaN</td>\n      <td>NaN</td>\n      <td>NaN</td>\n      <td>NaN</td>\n      <td>NaN</td>\n    </tr>\n    <tr>\n      <th>13</th>\n      <td>NaN</td>\n      <td>NaN</td>\n      <td>NaN</td>\n      <td>15176.474454</td>\n      <td>NaN</td>\n      <td>NaN</td>\n      <td>NaN</td>\n      <td>NaN</td>\n      <td>NaN</td>\n      <td>NaN</td>\n      <td>NaN</td>\n      <td>NaN</td>\n    </tr>\n    <tr>\n      <th>14</th>\n      <td>NaN</td>\n      <td>NaN</td>\n      <td>NaN</td>\n      <td>NaN</td>\n      <td>NaN</td>\n      <td>NaN</td>\n      <td>NaN</td>\n      <td>NaN</td>\n      <td>18280.334382</td>\n      <td>NaN</td>\n      <td>NaN</td>\n      <td>NaN</td>\n    </tr>\n    <tr>\n      <th>15</th>\n      <td>19095.318361</td>\n      <td>NaN</td>\n      <td>NaN</td>\n      <td>NaN</td>\n      <td>NaN</td>\n      <td>NaN</td>\n      <td>NaN</td>\n      <td>NaN</td>\n      <td>NaN</td>\n      <td>NaN</td>\n      <td>NaN</td>\n      <td>NaN</td>\n    </tr>\n    <tr>\n      <th>16</th>\n      <td>NaN</td>\n      <td>NaN</td>\n      <td>NaN</td>\n      <td>NaN</td>\n      <td>NaN</td>\n      <td>NaN</td>\n      <td>NaN</td>\n      <td>20206.106573</td>\n      <td>NaN</td>\n      <td>NaN</td>\n      <td>NaN</td>\n      <td>NaN</td>\n    </tr>\n    <tr>\n      <th>17</th>\n      <td>NaN</td>\n      <td>NaN</td>\n      <td>NaN</td>\n      <td>NaN</td>\n      <td>NaN</td>\n      <td>NaN</td>\n      <td>20056.650473</td>\n      <td>NaN</td>\n      <td>NaN</td>\n      <td>NaN</td>\n      <td>NaN</td>\n      <td>NaN</td>\n    </tr>\n    <tr>\n      <th>18</th>\n      <td>NaN</td>\n      <td>NaN</td>\n      <td>NaN</td>\n      <td>NaN</td>\n      <td>NaN</td>\n      <td>22288.143627</td>\n      <td>NaN</td>\n      <td>NaN</td>\n      <td>NaN</td>\n      <td>NaN</td>\n      <td>NaN</td>\n      <td>NaN</td>\n    </tr>\n    <tr>\n      <th>19</th>\n      <td>NaN</td>\n      <td>21707.813329</td>\n      <td>NaN</td>\n      <td>NaN</td>\n      <td>NaN</td>\n      <td>NaN</td>\n      <td>NaN</td>\n      <td>NaN</td>\n      <td>NaN</td>\n      <td>NaN</td>\n      <td>NaN</td>\n      <td>NaN</td>\n    </tr>\n    <tr>\n      <th>20</th>\n      <td>NaN</td>\n      <td>NaN</td>\n      <td>NaN</td>\n      <td>NaN</td>\n      <td>NaN</td>\n      <td>NaN</td>\n      <td>NaN</td>\n      <td>NaN</td>\n      <td>NaN</td>\n      <td>NaN</td>\n      <td>NaN</td>\n      <td>21084.843997</td>\n    </tr>\n    <tr>\n      <th>21</th>\n      <td>NaN</td>\n      <td>NaN</td>\n      <td>NaN</td>\n      <td>NaN</td>\n      <td>NaN</td>\n      <td>NaN</td>\n      <td>NaN</td>\n      <td>NaN</td>\n      <td>NaN</td>\n      <td>NaN</td>\n      <td>21564.908777</td>\n      <td>NaN</td>\n    </tr>\n    <tr>\n      <th>22</th>\n      <td>NaN</td>\n      <td>NaN</td>\n      <td>NaN</td>\n      <td>NaN</td>\n      <td>NaN</td>\n      <td>NaN</td>\n      <td>NaN</td>\n      <td>NaN</td>\n      <td>NaN</td>\n      <td>20566.410979</td>\n      <td>NaN</td>\n      <td>NaN</td>\n    </tr>\n    <tr>\n      <th>23</th>\n      <td>NaN</td>\n      <td>NaN</td>\n      <td>22364.237781</td>\n      <td>NaN</td>\n      <td>NaN</td>\n      <td>NaN</td>\n      <td>NaN</td>\n      <td>NaN</td>\n      <td>NaN</td>\n      <td>NaN</td>\n      <td>NaN</td>\n      <td>NaN</td>\n    </tr>\n    <tr>\n      <th>24</th>\n      <td>NaN</td>\n      <td>NaN</td>\n      <td>NaN</td>\n      <td>NaN</td>\n      <td>15562.548244</td>\n      <td>NaN</td>\n      <td>NaN</td>\n      <td>NaN</td>\n      <td>NaN</td>\n      <td>NaN</td>\n      <td>NaN</td>\n      <td>NaN</td>\n    </tr>\n    <tr>\n      <th>25</th>\n      <td>NaN</td>\n      <td>NaN</td>\n      <td>NaN</td>\n      <td>14055.574404</td>\n      <td>NaN</td>\n      <td>NaN</td>\n      <td>NaN</td>\n      <td>NaN</td>\n      <td>NaN</td>\n      <td>NaN</td>\n      <td>NaN</td>\n      <td>NaN</td>\n    </tr>\n    <tr>\n      <th>26</th>\n      <td>NaN</td>\n      <td>NaN</td>\n      <td>NaN</td>\n      <td>NaN</td>\n      <td>NaN</td>\n      <td>NaN</td>\n      <td>NaN</td>\n      <td>NaN</td>\n      <td>15633.906605</td>\n      <td>NaN</td>\n      <td>NaN</td>\n      <td>NaN</td>\n    </tr>\n    <tr>\n      <th>27</th>\n      <td>15792.846962</td>\n      <td>NaN</td>\n      <td>NaN</td>\n      <td>NaN</td>\n      <td>NaN</td>\n      <td>NaN</td>\n      <td>NaN</td>\n      <td>NaN</td>\n      <td>NaN</td>\n      <td>NaN</td>\n      <td>NaN</td>\n      <td>NaN</td>\n    </tr>\n    <tr>\n      <th>28</th>\n      <td>NaN</td>\n      <td>NaN</td>\n      <td>NaN</td>\n      <td>NaN</td>\n      <td>NaN</td>\n      <td>NaN</td>\n      <td>NaN</td>\n      <td>16947.490126</td>\n      <td>NaN</td>\n      <td>NaN</td>\n      <td>NaN</td>\n      <td>NaN</td>\n    </tr>\n    <tr>\n      <th>29</th>\n      <td>NaN</td>\n      <td>NaN</td>\n      <td>NaN</td>\n      <td>NaN</td>\n      <td>NaN</td>\n      <td>NaN</td>\n      <td>17082.748897</td>\n      <td>NaN</td>\n      <td>NaN</td>\n      <td>NaN</td>\n      <td>NaN</td>\n      <td>NaN</td>\n    </tr>\n    <tr>\n      <th>30</th>\n      <td>NaN</td>\n      <td>NaN</td>\n      <td>NaN</td>\n      <td>NaN</td>\n      <td>NaN</td>\n      <td>17965.029742</td>\n      <td>NaN</td>\n      <td>NaN</td>\n      <td>NaN</td>\n      <td>NaN</td>\n      <td>NaN</td>\n      <td>NaN</td>\n    </tr>\n    <tr>\n      <th>31</th>\n      <td>NaN</td>\n      <td>17720.174104</td>\n      <td>NaN</td>\n      <td>NaN</td>\n      <td>NaN</td>\n      <td>NaN</td>\n      <td>NaN</td>\n      <td>NaN</td>\n      <td>NaN</td>\n      <td>NaN</td>\n      <td>NaN</td>\n      <td>NaN</td>\n    </tr>\n    <tr>\n      <th>32</th>\n      <td>NaN</td>\n      <td>NaN</td>\n      <td>NaN</td>\n      <td>NaN</td>\n      <td>NaN</td>\n      <td>NaN</td>\n      <td>NaN</td>\n      <td>NaN</td>\n      <td>NaN</td>\n      <td>NaN</td>\n      <td>NaN</td>\n      <td>16870.277769</td>\n    </tr>\n    <tr>\n      <th>33</th>\n      <td>NaN</td>\n      <td>NaN</td>\n      <td>NaN</td>\n      <td>NaN</td>\n      <td>NaN</td>\n      <td>NaN</td>\n      <td>NaN</td>\n      <td>NaN</td>\n      <td>NaN</td>\n      <td>NaN</td>\n      <td>17579.239012</td>\n      <td>NaN</td>\n    </tr>\n    <tr>\n      <th>34</th>\n      <td>NaN</td>\n      <td>NaN</td>\n      <td>NaN</td>\n      <td>NaN</td>\n      <td>NaN</td>\n      <td>NaN</td>\n      <td>NaN</td>\n      <td>NaN</td>\n      <td>NaN</td>\n      <td>17567.793719</td>\n      <td>NaN</td>\n      <td>NaN</td>\n    </tr>\n    <tr>\n      <th>35</th>\n      <td>NaN</td>\n      <td>NaN</td>\n      <td>18653.342190</td>\n      <td>NaN</td>\n      <td>NaN</td>\n      <td>NaN</td>\n      <td>NaN</td>\n      <td>NaN</td>\n      <td>NaN</td>\n      <td>NaN</td>\n      <td>NaN</td>\n      <td>NaN</td>\n    </tr>\n  </tbody>\n</table>\n</div>"
     },
     "execution_count": 79,
     "metadata": {},
     "output_type": "execute_result"
    }
   ],
   "source": [
    "df_De.pivot(columns='Datum')"
   ],
   "metadata": {
    "collapsed": false,
    "ExecuteTime": {
     "start_time": "2023-04-26T12:18:44.344313Z",
     "end_time": "2023-04-26T12:18:44.385327Z"
    }
   }
  },
  {
   "cell_type": "code",
   "execution_count": null,
   "outputs": [],
   "source": [],
   "metadata": {
    "collapsed": false
   }
  },
  {
   "cell_type": "code",
   "execution_count": null,
   "outputs": [],
   "source": [
    "#df1 = pd.read_excel(xls, 'Sheet1')  jede Seite einzelnt"
   ],
   "metadata": {
    "collapsed": false
   }
  },
  {
   "cell_type": "code",
   "execution_count": 20,
   "outputs": [
    {
     "name": "stdout",
     "output_type": "stream",
     "text": [
      "        Datum Produkt      Umsatz\n",
      "0  01.01.2021       A   17.132115\n",
      "1  02.01.2021       A   57.353725\n",
      "2  03.01.2021       A  114.746857\n",
      "3  04.01.2021       A  113.251181\n",
      "4  05.01.2021       A    4.186462\n"
     ]
    },
    {
     "data": {
      "text/plain": "Index(['Datum', 'Produkt', 'Umsatz'], dtype='object')"
     },
     "execution_count": 20,
     "metadata": {},
     "output_type": "execute_result"
    }
   ],
   "source": [
    "#Europa\n",
    "\n",
    "df_eu = pd.read_csv('C:\\\\Users\\\\User\\\\Desktop\\\\praxisprojekt_april_2023\\\\Aufgabe 5 - Shopauswertung.csv',sep=';')\n",
    "\n",
    "print(df_eu.head())\n",
    "df_eu.columns"
   ],
   "metadata": {
    "collapsed": false,
    "ExecuteTime": {
     "start_time": "2023-04-26T10:02:11.103775Z",
     "end_time": "2023-04-26T10:02:11.150882Z"
    }
   }
  },
  {
   "cell_type": "code",
   "execution_count": 72,
   "outputs": [
    {
     "data": {
      "text/plain": "Produkt              A         A+B+C             B          C_new\nDatum                                                            \n01.01.2021   17.132115   18598.65588    189.467425   18392.056339\n01.02.2021   16.396013   36098.71366   1825.467425   34256.850222\n01.03.2021  136.595746   48739.43182   3211.467425   45391.368649\n01.04.2021  161.018321   64543.14148   4570.467425   59811.655734\n01.05.2021   17.224495   81075.32567   6084.467425   74973.633750\n...                ...           ...           ...            ...\n31.05.2021    4.597326   94724.91111   7473.467425   87246.846359\n31.07.2021  139.362356  123327.45240  10575.467430  112612.622614\n31.08.2021   25.023058  139021.10930  12288.467430  126707.618812\n31.10.2021   56.993978  170955.96420  15422.467430  155476.502792\n31.12.2021  111.467425  199213.85310  18533.467430  180568.918245\n\n[365 rows x 4 columns]",
      "text/html": "<div>\n<style scoped>\n    .dataframe tbody tr th:only-of-type {\n        vertical-align: middle;\n    }\n\n    .dataframe tbody tr th {\n        vertical-align: top;\n    }\n\n    .dataframe thead th {\n        text-align: right;\n    }\n</style>\n<table border=\"1\" class=\"dataframe\">\n  <thead>\n    <tr style=\"text-align: right;\">\n      <th>Produkt</th>\n      <th>A</th>\n      <th>A+B+C</th>\n      <th>B</th>\n      <th>C_new</th>\n    </tr>\n    <tr>\n      <th>Datum</th>\n      <th></th>\n      <th></th>\n      <th></th>\n      <th></th>\n    </tr>\n  </thead>\n  <tbody>\n    <tr>\n      <th>01.01.2021</th>\n      <td>17.132115</td>\n      <td>18598.65588</td>\n      <td>189.467425</td>\n      <td>18392.056339</td>\n    </tr>\n    <tr>\n      <th>01.02.2021</th>\n      <td>16.396013</td>\n      <td>36098.71366</td>\n      <td>1825.467425</td>\n      <td>34256.850222</td>\n    </tr>\n    <tr>\n      <th>01.03.2021</th>\n      <td>136.595746</td>\n      <td>48739.43182</td>\n      <td>3211.467425</td>\n      <td>45391.368649</td>\n    </tr>\n    <tr>\n      <th>01.04.2021</th>\n      <td>161.018321</td>\n      <td>64543.14148</td>\n      <td>4570.467425</td>\n      <td>59811.655734</td>\n    </tr>\n    <tr>\n      <th>01.05.2021</th>\n      <td>17.224495</td>\n      <td>81075.32567</td>\n      <td>6084.467425</td>\n      <td>74973.633750</td>\n    </tr>\n    <tr>\n      <th>...</th>\n      <td>...</td>\n      <td>...</td>\n      <td>...</td>\n      <td>...</td>\n    </tr>\n    <tr>\n      <th>31.05.2021</th>\n      <td>4.597326</td>\n      <td>94724.91111</td>\n      <td>7473.467425</td>\n      <td>87246.846359</td>\n    </tr>\n    <tr>\n      <th>31.07.2021</th>\n      <td>139.362356</td>\n      <td>123327.45240</td>\n      <td>10575.467430</td>\n      <td>112612.622614</td>\n    </tr>\n    <tr>\n      <th>31.08.2021</th>\n      <td>25.023058</td>\n      <td>139021.10930</td>\n      <td>12288.467430</td>\n      <td>126707.618812</td>\n    </tr>\n    <tr>\n      <th>31.10.2021</th>\n      <td>56.993978</td>\n      <td>170955.96420</td>\n      <td>15422.467430</td>\n      <td>155476.502792</td>\n    </tr>\n    <tr>\n      <th>31.12.2021</th>\n      <td>111.467425</td>\n      <td>199213.85310</td>\n      <td>18533.467430</td>\n      <td>180568.918245</td>\n    </tr>\n  </tbody>\n</table>\n<p>365 rows × 4 columns</p>\n</div>"
     },
     "execution_count": 72,
     "metadata": {},
     "output_type": "execute_result"
    }
   ],
   "source": [
    "df_eu = pd.read_csv('C:\\\\Users\\\\User\\\\Desktop\\\\praxisprojekt_april_2023\\\\Aufgabe 5 - Shopauswertung.csv',sep=';')\n",
    "\n",
    "\n",
    "df_eu_pivot = df_eu.pivot(columns='Produkt',index='Datum', values='Umsatz')\n",
    "df_eu_pivot['C_new']= df_eu_pivot['A+B+C']-df_eu_pivot['A']-df_eu_pivot['B']\n",
    "\n",
    "df_eu_pivot.columns\n",
    "df_eu_pivot\n",
    "#df_eu_pivot.reset_index()"
   ],
   "metadata": {
    "collapsed": false,
    "ExecuteTime": {
     "start_time": "2023-04-26T11:50:23.743361Z",
     "end_time": "2023-04-26T11:50:23.775282Z"
    }
   }
  },
  {
   "cell_type": "code",
   "execution_count": 80,
   "outputs": [
    {
     "data": {
      "text/plain": "           Datum         Umsatz           A         A+B+C             B   \n0            Jan  148945.166650         NaN           NaN           NaN  \\\n1            Feb  128859.949494         NaN           NaN           NaN   \n2            Mrz  141602.709028         NaN           NaN           NaN   \n3            Apr  133780.491099         NaN           NaN           NaN   \n4            Mai  135993.779232         NaN           NaN           NaN   \n...          ...            ...         ...           ...           ...   \n31.05.2021   NaN            NaN    4.597326   94724.91111   7473.467425   \n31.07.2021   NaN            NaN  139.362356  123327.45240  10575.467430   \n31.08.2021   NaN            NaN   25.023058  139021.10930  12288.467430   \n31.10.2021   NaN            NaN   56.993978  170955.96420  15422.467430   \n31.12.2021   NaN            NaN  111.467425  199213.85310  18533.467430   \n\n                    C_new  \n0                     NaN  \n1                     NaN  \n2                     NaN  \n3                     NaN  \n4                     NaN  \n...                   ...  \n31.05.2021   87246.846359  \n31.07.2021  112612.622614  \n31.08.2021  126707.618812  \n31.10.2021  155476.502792  \n31.12.2021  180568.918245  \n\n[401 rows x 6 columns]",
      "text/html": "<div>\n<style scoped>\n    .dataframe tbody tr th:only-of-type {\n        vertical-align: middle;\n    }\n\n    .dataframe tbody tr th {\n        vertical-align: top;\n    }\n\n    .dataframe thead th {\n        text-align: right;\n    }\n</style>\n<table border=\"1\" class=\"dataframe\">\n  <thead>\n    <tr style=\"text-align: right;\">\n      <th></th>\n      <th>Datum</th>\n      <th>Umsatz</th>\n      <th>A</th>\n      <th>A+B+C</th>\n      <th>B</th>\n      <th>C_new</th>\n    </tr>\n  </thead>\n  <tbody>\n    <tr>\n      <th>0</th>\n      <td>Jan</td>\n      <td>148945.166650</td>\n      <td>NaN</td>\n      <td>NaN</td>\n      <td>NaN</td>\n      <td>NaN</td>\n    </tr>\n    <tr>\n      <th>1</th>\n      <td>Feb</td>\n      <td>128859.949494</td>\n      <td>NaN</td>\n      <td>NaN</td>\n      <td>NaN</td>\n      <td>NaN</td>\n    </tr>\n    <tr>\n      <th>2</th>\n      <td>Mrz</td>\n      <td>141602.709028</td>\n      <td>NaN</td>\n      <td>NaN</td>\n      <td>NaN</td>\n      <td>NaN</td>\n    </tr>\n    <tr>\n      <th>3</th>\n      <td>Apr</td>\n      <td>133780.491099</td>\n      <td>NaN</td>\n      <td>NaN</td>\n      <td>NaN</td>\n      <td>NaN</td>\n    </tr>\n    <tr>\n      <th>4</th>\n      <td>Mai</td>\n      <td>135993.779232</td>\n      <td>NaN</td>\n      <td>NaN</td>\n      <td>NaN</td>\n      <td>NaN</td>\n    </tr>\n    <tr>\n      <th>...</th>\n      <td>...</td>\n      <td>...</td>\n      <td>...</td>\n      <td>...</td>\n      <td>...</td>\n      <td>...</td>\n    </tr>\n    <tr>\n      <th>31.05.2021</th>\n      <td>NaN</td>\n      <td>NaN</td>\n      <td>4.597326</td>\n      <td>94724.91111</td>\n      <td>7473.467425</td>\n      <td>87246.846359</td>\n    </tr>\n    <tr>\n      <th>31.07.2021</th>\n      <td>NaN</td>\n      <td>NaN</td>\n      <td>139.362356</td>\n      <td>123327.45240</td>\n      <td>10575.467430</td>\n      <td>112612.622614</td>\n    </tr>\n    <tr>\n      <th>31.08.2021</th>\n      <td>NaN</td>\n      <td>NaN</td>\n      <td>25.023058</td>\n      <td>139021.10930</td>\n      <td>12288.467430</td>\n      <td>126707.618812</td>\n    </tr>\n    <tr>\n      <th>31.10.2021</th>\n      <td>NaN</td>\n      <td>NaN</td>\n      <td>56.993978</td>\n      <td>170955.96420</td>\n      <td>15422.467430</td>\n      <td>155476.502792</td>\n    </tr>\n    <tr>\n      <th>31.12.2021</th>\n      <td>NaN</td>\n      <td>NaN</td>\n      <td>111.467425</td>\n      <td>199213.85310</td>\n      <td>18533.467430</td>\n      <td>180568.918245</td>\n    </tr>\n  </tbody>\n</table>\n<p>401 rows × 6 columns</p>\n</div>"
     },
     "execution_count": 80,
     "metadata": {},
     "output_type": "execute_result"
    }
   ],
   "source": [
    "\n",
    "df_combined = pd.concat([df_De,df_eu_pivot], axis=1)\n",
    "df_combined"
   ],
   "metadata": {
    "collapsed": false,
    "ExecuteTime": {
     "start_time": "2023-04-26T12:32:18.117541Z",
     "end_time": "2023-04-26T12:32:18.168406Z"
    }
   }
  },
  {
   "cell_type": "code",
   "execution_count": 81,
   "outputs": [],
   "source": [
    "df_combined.to_csv('combined_data.csv', index=False)"
   ],
   "metadata": {
    "collapsed": false,
    "ExecuteTime": {
     "start_time": "2023-04-26T12:35:05.911138Z",
     "end_time": "2023-04-26T12:35:05.938034Z"
    }
   }
  },
  {
   "cell_type": "code",
   "execution_count": 33,
   "outputs": [
    {
     "name": "stdout",
     "output_type": "stream",
     "text": [
      "Der Umsatz des Produkts A beträgt:  19364.2\n",
      "Der Umsatz des Produkts B beträgt 3370601.61\n",
      "Der Umsatz des Produkts C beträgt 36822682.22\n"
     ]
    }
   ],
   "source": [
    "#Welche Produkte verlaufen in den Shops wie?\n",
    "df_eu = pd.read_csv('C:\\\\Users\\\\User\\\\Desktop\\\\praxisprojekt_april_2023\\\\Aufgabe 5 - Shopauswertung.csv',sep=';')\n",
    "\n",
    "umsatz_produkt_a = round(df_eu.loc[df_eu['Produkt'] == 'A', 'Umsatz'].sum(),2)\n",
    "\n",
    "umsatz_produkt_b = round(df_eu.loc[df_eu['Produkt'] == 'B', 'Umsatz'].sum(),2)\n",
    "\n",
    "umsatz_produkt_abc = round(df_eu.loc[df_eu['Produkt'] == 'A+B+C', 'Umsatz'].sum(),2)\n",
    "\n",
    "umsatz_produkt_c = umsatz_produkt_abc - umsatz_produkt_a - umsatz_produkt_b\n",
    "\n",
    "# Gib den Umsatz aus\n",
    "print(\"Der Umsatz des Produkts A beträgt: \", umsatz_produkt_a)\n",
    "print(\"Der Umsatz des Produkts B beträgt\", umsatz_produkt_b)\n",
    "print(\"Der Umsatz des Produkts C beträgt\", umsatz_produkt_c)"
   ],
   "metadata": {
    "collapsed": false,
    "ExecuteTime": {
     "start_time": "2023-04-26T10:35:25.675875Z",
     "end_time": "2023-04-26T10:35:25.699813Z"
    }
   }
  },
  {
   "cell_type": "code",
   "execution_count": null,
   "outputs": [],
   "source": [],
   "metadata": {
    "collapsed": false
   }
  },
  {
   "cell_type": "code",
   "execution_count": 17,
   "outputs": [
    {
     "data": {
      "text/plain": "Produkt\nA        1.936420e+04\nA+B+C    4.021265e+07\nB        3.370602e+06\nName: Umsatz, dtype: float64"
     },
     "execution_count": 17,
     "metadata": {},
     "output_type": "execute_result"
    }
   ],
   "source": [
    "df_sum = df_by_product['Umsatz'].sum()\n",
    "df_sum"
   ],
   "metadata": {
    "collapsed": false,
    "ExecuteTime": {
     "start_time": "2023-04-26T09:52:46.721242Z",
     "end_time": "2023-04-26T09:52:46.740490Z"
    }
   }
  },
  {
   "cell_type": "code",
   "execution_count": 50,
   "outputs": [],
   "source": [],
   "metadata": {
    "collapsed": false,
    "ExecuteTime": {
     "start_time": "2023-04-26T11:21:08.111359Z",
     "end_time": "2023-04-26T11:21:08.140281Z"
    }
   }
  },
  {
   "cell_type": "code",
   "execution_count": 50,
   "outputs": [
    {
     "name": "stdout",
     "output_type": "stream",
     "text": [
      "Monat      Produkt\n",
      "April      A          1.392164e+03\n",
      "           A+B+C      2.187074e+06\n",
      "           B          1.588690e+05\n",
      "August     A          1.587996e+03\n",
      "           A+B+C      4.097987e+06\n",
      "           B          3.543405e+05\n",
      "December   A          1.603259e+03\n",
      "           A+B+C      5.971972e+06\n",
      "           B          5.476725e+05\n",
      "February   A          1.495043e+03\n",
      "           A+B+C      1.175157e+06\n",
      "           B          6.968709e+04\n",
      "January    A          1.514915e+03\n",
      "           A+B+C      8.424678e+05\n",
      "           B          3.037049e+04\n",
      "July       A          1.813789e+03\n",
      "           A+B+C      3.602816e+06\n",
      "           B          3.012125e+05\n",
      "June       A          1.588092e+03\n",
      "           A+B+C      3.090373e+06\n",
      "           B          2.440010e+05\n",
      "March      A          1.789003e+03\n",
      "           A+B+C      1.755245e+06\n",
      "           B          1.203685e+05\n",
      "May        A          1.719606e+03\n",
      "           A+B+C      2.717825e+06\n",
      "           B          2.087055e+05\n",
      "November   A          1.528727e+03\n",
      "           A+B+C      5.331418e+06\n",
      "           B          4.848200e+05\n",
      "October    A          1.836128e+03\n",
      "           A+B+C      5.048326e+06\n",
      "           B          4.551205e+05\n",
      "September  A          1.495482e+03\n",
      "           A+B+C      4.391986e+06\n",
      "           B          3.954340e+05\n",
      "Name: Umsatz, dtype: float64\n"
     ]
    }
   ],
   "source": [
    "df = pd.read_csv('C:\\\\Users\\\\User\\\\Desktop\\\\praxisprojekt_april_2023\\\\Aufgabe 5 - Shopauswertung.csv', delimiter=';')\n",
    "\n",
    "df['Datum'] = pd.to_datetime(df['Datum'], format='%d.%m.%Y')\n",
    "\n",
    "# Spalte für den Monat erstellen\n",
    "df['Monat'] = df['Datum'].dt.strftime('%B')\n",
    "\n",
    "# Umsatz pro Monat und Produkt berechnen\n",
    "umsatz_pro_monat_pro_produkt = df.groupby(['Monat', 'Produkt'])['Umsatz'].sum()\n",
    "\n",
    "#umsatz_pro_monat_pro_produkt[\"Produktc\"]= umsatz_pro_monat_pro_produkt['Produkt\n",
    "# Ergebnis anzeigen\n",
    "print(umsatz_pro_monat_pro_produkt)"
   ],
   "metadata": {
    "collapsed": false,
    "ExecuteTime": {
     "start_time": "2023-04-26T11:20:49.642546Z",
     "end_time": "2023-04-26T11:20:49.675493Z"
    }
   }
  },
  {
   "cell_type": "code",
   "execution_count": null,
   "outputs": [],
   "source": [],
   "metadata": {
    "collapsed": false
   }
  }
 ],
 "metadata": {
  "kernelspec": {
   "display_name": "Python 3",
   "language": "python",
   "name": "python3"
  },
  "language_info": {
   "codemirror_mode": {
    "name": "ipython",
    "version": 2
   },
   "file_extension": ".py",
   "mimetype": "text/x-python",
   "name": "python",
   "nbconvert_exporter": "python",
   "pygments_lexer": "ipython2",
   "version": "2.7.6"
  }
 },
 "nbformat": 4,
 "nbformat_minor": 0
}
